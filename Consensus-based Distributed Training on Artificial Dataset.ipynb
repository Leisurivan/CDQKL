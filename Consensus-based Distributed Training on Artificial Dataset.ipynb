{
 "cells": [
  {
   "cell_type": "code",
   "execution_count": 1,
   "metadata": {
    "collapsed": true
   },
   "outputs": [],
   "source": [
    "%matplotlib inline\n",
    "%config InlineBackend.figure_format = 'svg'"
   ]
  },
  {
   "cell_type": "code",
   "execution_count": 2,
   "outputs": [],
   "source": [
    "import pennylane as qml\n",
    "from pennylane import numpy as np\n",
    "import matplotlib.pyplot as plt\n",
    "import matplotlib as mpl\n",
    "from sklearn.svm import SVC\n",
    "from tqdm.notebook import tqdm\n",
    "import time\n",
    "from pickle import load, dump\n",
    "import copy\n",
    "import multiprocessing"
   ],
   "metadata": {
    "collapsed": false,
    "pycharm": {
     "name": "#%%\n"
    }
   }
  },
  {
   "cell_type": "code",
   "execution_count": 3,
   "outputs": [],
   "source": [
    "def checkerboard4(num_train, num_test, num_grid_col=4, num_grid_row=4, position=0):\n",
    "    if num_train%2:\n",
    "        raise ValueError(f\"This method wants to create a balanced dataset but received\"\n",
    "                f\"odd num_train={num_train}.\")\n",
    "    if num_test%2:\n",
    "        raise ValueError(f\"This method wants to create a balanced dataset but received\"\n",
    "                f\"odd num_test={num_test}.\")\n",
    "    num_total = num_train + num_test\n",
    "    max_samples = num_grid_row * num_grid_col * 40\n",
    "    if num_total>max_samples:\n",
    "        raise ValueError(f\"Due to intricate legacy reasons, the number of samples\"\n",
    "                f\"may not exceed {max_samples}. Received {num_total}.\")\n",
    "    # creating negative (-1) and positive (+1) samples\n",
    "    negatives = []\n",
    "    positives = []\n",
    "    for i in range(num_grid_col):\n",
    "        for j in range(num_grid_row):\n",
    "            data = (np.random.random((40,2))-0.5)\n",
    "            data[:,0] = (data[:,0]+2*i+1)/(2*num_grid_col)\n",
    "            data[:,1] = (data[:,1]+2*j+1)/(2*num_grid_row)\n",
    "            if i%2==j%2:\n",
    "                negatives.append(data)\n",
    "            else:\n",
    "                positives.append(data)\n",
    "    negative = np.vstack(negatives)\n",
    "    positive = np.vstack(positives)\n",
    "\n",
    "    # split the data\n",
    "    np.random.shuffle(negative)\n",
    "    np.random.shuffle(positive)\n",
    "\n",
    "    X_train = np.vstack([negative[:num_train//2], positive[:num_train//2]])\n",
    "    y_train = np.hstack([-np.ones((num_train//2)), np.ones((num_train//2))])\n",
    "    X_test = np.vstack([negative[num_train//2:num_total//2], positive[num_train//2:num_total//2]])\n",
    "    y_test = np.hstack([-np.ones((num_test//2)), np.ones((num_test//2))])\n",
    "\n",
    "    r0 = [X_train, y_train, X_test, y_test]\n",
    "\n",
    "    X_train_l = X_train[np.where(X_train[:,0] <= 0.5)]\n",
    "    y_train_l = y_train[np.where(X_train[:,0] <= 0.5)]\n",
    "    X_test_l = X_test[np.where(X_test[:,0] <= 0.5)]\n",
    "    y_test_l = y_test[np.where(X_test[:,0] <= 0.5)]\n",
    "\n",
    "    r1 = [X_train_l[np.where(X_train_l[:,1] <= 0.5)],y_train_l[np.where(X_train_l[:,1] <= 0.5)],X_test_l[np.where(X_test_l[:,1] <= 0.5)],y_test_l[np.where(X_test_l[:,1] <= 0.5)]]\n",
    "    r3 = [X_train_l[np.where(X_train_l[:,1] >= 0.5)],y_train_l[np.where(X_train_l[:,1] >= 0.5)],X_test_l[np.where(X_test_l[:,1] >= 0.5)],y_test_l[np.where(X_test_l[:,1] >= 0.5)]]\n",
    "\n",
    "    X_train_r = X_train[np.where(X_train[:,0] >= 0.5)]\n",
    "    y_train_r = y_train[np.where(X_train[:,0] >= 0.5)]\n",
    "    X_test_r = X_test[np.where(X_test[:,0] >= 0.5)]\n",
    "    y_test_r = y_test[np.where(X_test[:,0] >= 0.5)]\n",
    "\n",
    "    r2 = [X_train_r[np.where(X_train_r[:,1] <= 0.5)],y_train_r[np.where(X_train_r[:,1] <= 0.5)],X_test_r[np.where(X_test_r[:,1] <= 0.5)],y_test_r[np.where(X_test_r[:,1] <= 0.5)]]\n",
    "\n",
    "    r4 = [X_train_r[np.where(X_train_r[:,1] >= 0.5)],y_train_r[np.where(X_train_r[:,1] >= 0.5)],X_test_r[np.where(X_test_r[:,1] >= 0.5)],y_test_r[np.where(X_test_r[:,1] >= 0.5)]]\n",
    "\n",
    "    return r0, r1, r2, r3, r4"
   ],
   "metadata": {
    "collapsed": false,
    "pycharm": {
     "name": "#%%\n"
    }
   }
  },
  {
   "cell_type": "code",
   "execution_count": 4,
   "outputs": [],
   "source": [
    "np.random.seed(43) # Seed, 43 was used for the paper results\n",
    "\n",
    "num_train = 60 # Number of training datapoints\n",
    "num_test = 60 # Number of test datapoints\n",
    "\n",
    "xlims = [0, 1]\n",
    "ylims = [0, 1]"
   ],
   "metadata": {
    "collapsed": false,
    "pycharm": {
     "name": "#%%\n"
    }
   }
  },
  {
   "cell_type": "code",
   "execution_count": 5,
   "outputs": [],
   "source": [
    "r0, r1, r2, r3, r4 = checkerboard4(num_train, num_test, num_grid_row=4, num_grid_col=4,position=4)\n",
    "r = [r0, r1, r2, r3, r4]"
   ],
   "metadata": {
    "collapsed": false,
    "pycharm": {
     "name": "#%%\n"
    }
   }
  },
  {
   "cell_type": "code",
   "execution_count": 6,
   "outputs": [
    {
     "data": {
      "text/plain": "<matplotlib.legend.Legend at 0x7fa5ee9f87f0>"
     },
     "execution_count": 6,
     "metadata": {},
     "output_type": "execute_result"
    },
    {
     "data": {
      "text/plain": "<Figure size 640x480 with 1 Axes>",
      "image/svg+xml": "<?xml version=\"1.0\" encoding=\"utf-8\" standalone=\"no\"?>\n<!DOCTYPE svg PUBLIC \"-//W3C//DTD SVG 1.1//EN\"\n  \"http://www.w3.org/Graphics/SVG/1.1/DTD/svg11.dtd\">\n<svg xmlns:xlink=\"http://www.w3.org/1999/xlink\" width=\"402.374687pt\" height=\"300.989344pt\" viewBox=\"0 0 402.374687 300.989344\" xmlns=\"http://www.w3.org/2000/svg\" version=\"1.1\">\n <metadata>\n  <rdf:RDF xmlns:dc=\"http://purl.org/dc/elements/1.1/\" xmlns:cc=\"http://creativecommons.org/ns#\" xmlns:rdf=\"http://www.w3.org/1999/02/22-rdf-syntax-ns#\">\n   <cc:Work>\n    <dc:type rdf:resource=\"http://purl.org/dc/dcmitype/StillImage\"/>\n    <dc:date>2023-11-15T16:33:41.176284</dc:date>\n    <dc:format>image/svg+xml</dc:format>\n    <dc:creator>\n     <cc:Agent>\n      <dc:title>Matplotlib v3.8.0, https://matplotlib.org/</dc:title>\n     </cc:Agent>\n    </dc:creator>\n   </cc:Work>\n  </rdf:RDF>\n </metadata>\n <defs>\n  <style type=\"text/css\">*{stroke-linejoin: round; stroke-linecap: butt}</style>\n </defs>\n <g id=\"figure_1\">\n  <g id=\"patch_1\">\n   <path d=\"M 0 300.989344 \nL 402.374687 300.989344 \nL 402.374687 0 \nL 0 0 \nz\n\" style=\"fill: #ffffff\"/>\n  </g>\n  <g id=\"axes_1\">\n   <g id=\"patch_2\">\n    <path d=\"M 30.103125 277.111219 \nL 387.223125 277.111219 \nL 387.223125 10.999219 \nL 30.103125 10.999219 \nz\n\" style=\"fill: #ffffff\"/>\n   </g>\n   <g id=\"PathCollection_1\">\n    <defs>\n     <path id=\"m59ee2c41c0\" d=\"M 0 1.5 \nC 0.397805 1.5 0.77937 1.341951 1.06066 1.06066 \nC 1.341951 0.77937 1.5 0.397805 1.5 0 \nC 1.5 -0.397805 1.341951 -0.77937 1.06066 -1.06066 \nC 0.77937 -1.341951 0.397805 -1.5 0 -1.5 \nC -0.397805 -1.5 -0.77937 -1.341951 -1.06066 -1.06066 \nC -1.341951 -0.77937 -1.5 -0.397805 -1.5 0 \nC -1.5 0.397805 -1.341951 0.77937 -1.06066 1.06066 \nC -0.77937 1.341951 -0.397805 1.5 0 1.5 \nz\n\" style=\"stroke: #0000ff\"/>\n    </defs>\n    <g clip-path=\"url(#p3eeeacb847)\">\n     <use xlink:href=\"#m59ee2c41c0\" x=\"162.76317\" y=\"120.276265\" style=\"fill: #0000ff; stroke: #0000ff\"/>\n     <use xlink:href=\"#m59ee2c41c0\" x=\"150.520519\" y=\"239.868439\" style=\"fill: #0000ff; stroke: #0000ff\"/>\n     <use xlink:href=\"#m59ee2c41c0\" x=\"244.604103\" y=\"55.830004\" style=\"fill: #0000ff; stroke: #0000ff\"/>\n     <use xlink:href=\"#m59ee2c41c0\" x=\"55.558139\" y=\"46.131036\" style=\"fill: #0000ff; stroke: #0000ff\"/>\n     <use xlink:href=\"#m59ee2c41c0\" x=\"185.410943\" y=\"241.117758\" style=\"fill: #0000ff; stroke: #0000ff\"/>\n     <use xlink:href=\"#m59ee2c41c0\" x=\"161.544622\" y=\"119.788244\" style=\"fill: #0000ff; stroke: #0000ff\"/>\n     <use xlink:href=\"#m59ee2c41c0\" x=\"263.999708\" y=\"193.109862\" style=\"fill: #0000ff; stroke: #0000ff\"/>\n     <use xlink:href=\"#m59ee2c41c0\" x=\"331.969564\" y=\"116.70958\" style=\"fill: #0000ff; stroke: #0000ff\"/>\n     <use xlink:href=\"#m59ee2c41c0\" x=\"360.239316\" y=\"95.937965\" style=\"fill: #0000ff; stroke: #0000ff\"/>\n     <use xlink:href=\"#m59ee2c41c0\" x=\"260.445155\" y=\"191.559014\" style=\"fill: #0000ff; stroke: #0000ff\"/>\n     <use xlink:href=\"#m59ee2c41c0\" x=\"260.330579\" y=\"180.932858\" style=\"fill: #0000ff; stroke: #0000ff\"/>\n     <use xlink:href=\"#m59ee2c41c0\" x=\"364.787036\" y=\"111.034485\" style=\"fill: #0000ff; stroke: #0000ff\"/>\n     <use xlink:href=\"#m59ee2c41c0\" x=\"70.890047\" y=\"189.934519\" style=\"fill: #0000ff; stroke: #0000ff\"/>\n     <use xlink:href=\"#m59ee2c41c0\" x=\"57.036781\" y=\"177.648211\" style=\"fill: #0000ff; stroke: #0000ff\"/>\n     <use xlink:href=\"#m59ee2c41c0\" x=\"245.25353\" y=\"32.213117\" style=\"fill: #0000ff; stroke: #0000ff\"/>\n     <use xlink:href=\"#m59ee2c41c0\" x=\"266.908897\" y=\"44.294993\" style=\"fill: #0000ff; stroke: #0000ff\"/>\n     <use xlink:href=\"#m59ee2c41c0\" x=\"249.494587\" y=\"59.291021\" style=\"fill: #0000ff; stroke: #0000ff\"/>\n     <use xlink:href=\"#m59ee2c41c0\" x=\"344.294079\" y=\"259.885619\" style=\"fill: #0000ff; stroke: #0000ff\"/>\n     <use xlink:href=\"#m59ee2c41c0\" x=\"183.451721\" y=\"258.80096\" style=\"fill: #0000ff; stroke: #0000ff\"/>\n     <use xlink:href=\"#m59ee2c41c0\" x=\"344.179465\" y=\"105.460763\" style=\"fill: #0000ff; stroke: #0000ff\"/>\n     <use xlink:href=\"#m59ee2c41c0\" x=\"142.285126\" y=\"111.664905\" style=\"fill: #0000ff; stroke: #0000ff\"/>\n     <use xlink:href=\"#m59ee2c41c0\" x=\"78.959337\" y=\"161.837868\" style=\"fill: #0000ff; stroke: #0000ff\"/>\n     <use xlink:href=\"#m59ee2c41c0\" x=\"274.859969\" y=\"178.681459\" style=\"fill: #0000ff; stroke: #0000ff\"/>\n     <use xlink:href=\"#m59ee2c41c0\" x=\"334.623505\" y=\"247.701659\" style=\"fill: #0000ff; stroke: #0000ff\"/>\n     <use xlink:href=\"#m59ee2c41c0\" x=\"321.383476\" y=\"119.288313\" style=\"fill: #0000ff; stroke: #0000ff\"/>\n     <use xlink:href=\"#m59ee2c41c0\" x=\"83.805526\" y=\"37.119589\" style=\"fill: #0000ff; stroke: #0000ff\"/>\n     <use xlink:href=\"#m59ee2c41c0\" x=\"332.315636\" y=\"250.338763\" style=\"fill: #0000ff; stroke: #0000ff\"/>\n     <use xlink:href=\"#m59ee2c41c0\" x=\"71.738767\" y=\"170.861108\" style=\"fill: #0000ff; stroke: #0000ff\"/>\n     <use xlink:href=\"#m59ee2c41c0\" x=\"55.842952\" y=\"31.133117\" style=\"fill: #0000ff; stroke: #0000ff\"/>\n     <use xlink:href=\"#m59ee2c41c0\" x=\"338.860073\" y=\"239.025831\" style=\"fill: #0000ff; stroke: #0000ff\"/>\n    </g>\n   </g>\n   <g id=\"PathCollection_2\">\n    <defs>\n     <path id=\"m66ff950cbd\" d=\"M 0 1.5 \nC 0.397805 1.5 0.77937 1.341951 1.06066 1.06066 \nC 1.341951 0.77937 1.5 0.397805 1.5 0 \nC 1.5 -0.397805 1.341951 -0.77937 1.06066 -1.06066 \nC 0.77937 -1.341951 0.397805 -1.5 0 -1.5 \nC -0.397805 -1.5 -0.77937 -1.341951 -1.06066 -1.06066 \nC -1.341951 -0.77937 -1.5 -0.397805 -1.5 0 \nC -1.5 0.397805 -1.341951 0.77937 -1.06066 1.06066 \nC -0.77937 1.341951 -0.397805 1.5 0 1.5 \nz\n\" style=\"stroke: #ff0000\"/>\n    </defs>\n    <g clip-path=\"url(#p3eeeacb847)\">\n     <use xlink:href=\"#m66ff950cbd\" x=\"339.930104\" y=\"36.271627\" style=\"fill: #ff0000; stroke: #ff0000\"/>\n     <use xlink:href=\"#m66ff950cbd\" x=\"231.234426\" y=\"101.88395\" style=\"fill: #ff0000; stroke: #ff0000\"/>\n     <use xlink:href=\"#m66ff950cbd\" x=\"330.636589\" y=\"30.869534\" style=\"fill: #ff0000; stroke: #ff0000\"/>\n     <use xlink:href=\"#m66ff950cbd\" x=\"56.368132\" y=\"95.373717\" style=\"fill: #ff0000; stroke: #ff0000\"/>\n     <use xlink:href=\"#m66ff950cbd\" x=\"152.451089\" y=\"175.382806\" style=\"fill: #ff0000; stroke: #ff0000\"/>\n     <use xlink:href=\"#m66ff950cbd\" x=\"72.321778\" y=\"238.201498\" style=\"fill: #ff0000; stroke: #ff0000\"/>\n     <use xlink:href=\"#m66ff950cbd\" x=\"95.877442\" y=\"94.201845\" style=\"fill: #ff0000; stroke: #ff0000\"/>\n     <use xlink:href=\"#m66ff950cbd\" x=\"179.557399\" y=\"184.262544\" style=\"fill: #ff0000; stroke: #ff0000\"/>\n     <use xlink:href=\"#m66ff950cbd\" x=\"155.868399\" y=\"168.110425\" style=\"fill: #ff0000; stroke: #ff0000\"/>\n     <use xlink:href=\"#m66ff950cbd\" x=\"355.042017\" y=\"174.935323\" style=\"fill: #ff0000; stroke: #ff0000\"/>\n     <use xlink:href=\"#m66ff950cbd\" x=\"147.056829\" y=\"176.658954\" style=\"fill: #ff0000; stroke: #ff0000\"/>\n     <use xlink:href=\"#m66ff950cbd\" x=\"264.341316\" y=\"95.49554\" style=\"fill: #ff0000; stroke: #ff0000\"/>\n     <use xlink:href=\"#m66ff950cbd\" x=\"83.339735\" y=\"115.623319\" style=\"fill: #ff0000; stroke: #ff0000\"/>\n     <use xlink:href=\"#m66ff950cbd\" x=\"232.418367\" y=\"255.53679\" style=\"fill: #ff0000; stroke: #ff0000\"/>\n     <use xlink:href=\"#m66ff950cbd\" x=\"74.118858\" y=\"116.735775\" style=\"fill: #ff0000; stroke: #ff0000\"/>\n     <use xlink:href=\"#m66ff950cbd\" x=\"330.050243\" y=\"163.022191\" style=\"fill: #ff0000; stroke: #ff0000\"/>\n     <use xlink:href=\"#m66ff950cbd\" x=\"62.106879\" y=\"126.682438\" style=\"fill: #ff0000; stroke: #ff0000\"/>\n     <use xlink:href=\"#m66ff950cbd\" x=\"179.748276\" y=\"188.610223\" style=\"fill: #ff0000; stroke: #ff0000\"/>\n     <use xlink:href=\"#m66ff950cbd\" x=\"176.43768\" y=\"175.230239\" style=\"fill: #ff0000; stroke: #ff0000\"/>\n     <use xlink:href=\"#m66ff950cbd\" x=\"161.678104\" y=\"187.497188\" style=\"fill: #ff0000; stroke: #ff0000\"/>\n     <use xlink:href=\"#m66ff950cbd\" x=\"256.808141\" y=\"259.451376\" style=\"fill: #ff0000; stroke: #ff0000\"/>\n     <use xlink:href=\"#m66ff950cbd\" x=\"240.559846\" y=\"98.891188\" style=\"fill: #ff0000; stroke: #ff0000\"/>\n     <use xlink:href=\"#m66ff950cbd\" x=\"344.217087\" y=\"171.583893\" style=\"fill: #ff0000; stroke: #ff0000\"/>\n     <use xlink:href=\"#m66ff950cbd\" x=\"169.804926\" y=\"55.554102\" style=\"fill: #ff0000; stroke: #ff0000\"/>\n     <use xlink:href=\"#m66ff950cbd\" x=\"52.652108\" y=\"242.41013\" style=\"fill: #ff0000; stroke: #ff0000\"/>\n     <use xlink:href=\"#m66ff950cbd\" x=\"65.726001\" y=\"251.753911\" style=\"fill: #ff0000; stroke: #ff0000\"/>\n     <use xlink:href=\"#m66ff950cbd\" x=\"341.701181\" y=\"163.109577\" style=\"fill: #ff0000; stroke: #ff0000\"/>\n     <use xlink:href=\"#m66ff950cbd\" x=\"60.166529\" y=\"125.887484\" style=\"fill: #ff0000; stroke: #ff0000\"/>\n     <use xlink:href=\"#m66ff950cbd\" x=\"90.388806\" y=\"111.001023\" style=\"fill: #ff0000; stroke: #ff0000\"/>\n     <use xlink:href=\"#m66ff950cbd\" x=\"83.829112\" y=\"121.714196\" style=\"fill: #ff0000; stroke: #ff0000\"/>\n    </g>\n   </g>\n   <g id=\"PathCollection_3\">\n    <defs>\n     <path id=\"mf6c64866d6\" d=\"M -3 3 \nL 3 -3 \nM -3 -3 \nL 3 3 \n\" style=\"stroke: #0000ff; stroke-width: 1.5\"/>\n    </defs>\n    <g clip-path=\"url(#p3eeeacb847)\">\n     <use xlink:href=\"#mf6c64866d6\" x=\"71.920287\" y=\"40.15294\" style=\"fill: #0000ff; stroke: #0000ff; stroke-width: 1.5\"/>\n     <use xlink:href=\"#mf6c64866d6\" x=\"55.117754\" y=\"169.794514\" style=\"fill: #0000ff; stroke: #0000ff; stroke-width: 1.5\"/>\n     <use xlink:href=\"#mf6c64866d6\" x=\"342.998549\" y=\"236.927984\" style=\"fill: #0000ff; stroke: #0000ff; stroke-width: 1.5\"/>\n     <use xlink:href=\"#mf6c64866d6\" x=\"88.798113\" y=\"174.114998\" style=\"fill: #0000ff; stroke: #0000ff; stroke-width: 1.5\"/>\n     <use xlink:href=\"#mf6c64866d6\" x=\"345.191386\" y=\"108.629116\" style=\"fill: #0000ff; stroke: #0000ff; stroke-width: 1.5\"/>\n     <use xlink:href=\"#mf6c64866d6\" x=\"185.896861\" y=\"124.595341\" style=\"fill: #0000ff; stroke: #0000ff; stroke-width: 1.5\"/>\n     <use xlink:href=\"#mf6c64866d6\" x=\"264.943791\" y=\"38.436981\" style=\"fill: #0000ff; stroke: #0000ff; stroke-width: 1.5\"/>\n     <use xlink:href=\"#mf6c64866d6\" x=\"174.125363\" y=\"114.688726\" style=\"fill: #0000ff; stroke: #0000ff; stroke-width: 1.5\"/>\n     <use xlink:href=\"#mf6c64866d6\" x=\"251.046454\" y=\"39.808516\" style=\"fill: #0000ff; stroke: #0000ff; stroke-width: 1.5\"/>\n     <use xlink:href=\"#mf6c64866d6\" x=\"77.135359\" y=\"49.222901\" style=\"fill: #0000ff; stroke: #0000ff; stroke-width: 1.5\"/>\n     <use xlink:href=\"#mf6c64866d6\" x=\"64.532374\" y=\"47.823354\" style=\"fill: #0000ff; stroke: #0000ff; stroke-width: 1.5\"/>\n     <use xlink:href=\"#mf6c64866d6\" x=\"91.268026\" y=\"164.5591\" style=\"fill: #0000ff; stroke: #0000ff; stroke-width: 1.5\"/>\n     <use xlink:href=\"#mf6c64866d6\" x=\"170.590942\" y=\"96.719124\" style=\"fill: #0000ff; stroke: #0000ff; stroke-width: 1.5\"/>\n     <use xlink:href=\"#mf6c64866d6\" x=\"271.405872\" y=\"161.890137\" style=\"fill: #0000ff; stroke: #0000ff; stroke-width: 1.5\"/>\n     <use xlink:href=\"#mf6c64866d6\" x=\"78.451394\" y=\"34.83283\" style=\"fill: #0000ff; stroke: #0000ff; stroke-width: 1.5\"/>\n     <use xlink:href=\"#mf6c64866d6\" x=\"74.05953\" y=\"189.684767\" style=\"fill: #0000ff; stroke: #0000ff; stroke-width: 1.5\"/>\n     <use xlink:href=\"#mf6c64866d6\" x=\"338.042369\" y=\"239.77252\" style=\"fill: #0000ff; stroke: #0000ff; stroke-width: 1.5\"/>\n     <use xlink:href=\"#mf6c64866d6\" x=\"249.900532\" y=\"162.692041\" style=\"fill: #0000ff; stroke: #0000ff; stroke-width: 1.5\"/>\n     <use xlink:href=\"#mf6c64866d6\" x=\"81.443547\" y=\"51.500107\" style=\"fill: #0000ff; stroke: #0000ff; stroke-width: 1.5\"/>\n     <use xlink:href=\"#mf6c64866d6\" x=\"247.0396\" y=\"48.491583\" style=\"fill: #0000ff; stroke: #0000ff; stroke-width: 1.5\"/>\n     <use xlink:href=\"#mf6c64866d6\" x=\"73.908506\" y=\"184.257334\" style=\"fill: #0000ff; stroke: #0000ff; stroke-width: 1.5\"/>\n     <use xlink:href=\"#mf6c64866d6\" x=\"178.497753\" y=\"120.184792\" style=\"fill: #0000ff; stroke: #0000ff; stroke-width: 1.5\"/>\n     <use xlink:href=\"#mf6c64866d6\" x=\"177.816313\" y=\"239.6772\" style=\"fill: #0000ff; stroke: #0000ff; stroke-width: 1.5\"/>\n     <use xlink:href=\"#mf6c64866d6\" x=\"73.828229\" y=\"188.657669\" style=\"fill: #0000ff; stroke: #0000ff; stroke-width: 1.5\"/>\n     <use xlink:href=\"#mf6c64866d6\" x=\"327.836129\" y=\"123.716297\" style=\"fill: #0000ff; stroke: #0000ff; stroke-width: 1.5\"/>\n     <use xlink:href=\"#mf6c64866d6\" x=\"338.107736\" y=\"124.241982\" style=\"fill: #0000ff; stroke: #0000ff; stroke-width: 1.5\"/>\n     <use xlink:href=\"#mf6c64866d6\" x=\"95.023947\" y=\"169.340389\" style=\"fill: #0000ff; stroke: #0000ff; stroke-width: 1.5\"/>\n     <use xlink:href=\"#mf6c64866d6\" x=\"355.411742\" y=\"119.375335\" style=\"fill: #0000ff; stroke: #0000ff; stroke-width: 1.5\"/>\n     <use xlink:href=\"#mf6c64866d6\" x=\"88.621806\" y=\"31.728336\" style=\"fill: #0000ff; stroke: #0000ff; stroke-width: 1.5\"/>\n     <use xlink:href=\"#mf6c64866d6\" x=\"243.930746\" y=\"179.8026\" style=\"fill: #0000ff; stroke: #0000ff; stroke-width: 1.5\"/>\n    </g>\n   </g>\n   <g id=\"PathCollection_4\">\n    <defs>\n     <path id=\"me93d5ac665\" d=\"M -3 3 \nL 3 -3 \nM -3 -3 \nL 3 3 \n\" style=\"stroke: #ff0000; stroke-width: 1.5\"/>\n    </defs>\n    <g clip-path=\"url(#p3eeeacb847)\">\n     <use xlink:href=\"#me93d5ac665\" x=\"345.089989\" y=\"42.210179\" style=\"fill: #ff0000; stroke: #ff0000; stroke-width: 1.5\"/>\n     <use xlink:href=\"#me93d5ac665\" x=\"261.493238\" y=\"235.047368\" style=\"fill: #ff0000; stroke: #ff0000; stroke-width: 1.5\"/>\n     <use xlink:href=\"#me93d5ac665\" x=\"73.342168\" y=\"108.830213\" style=\"fill: #ff0000; stroke: #ff0000; stroke-width: 1.5\"/>\n     <use xlink:href=\"#me93d5ac665\" x=\"181.564532\" y=\"183.316837\" style=\"fill: #ff0000; stroke: #ff0000; stroke-width: 1.5\"/>\n     <use xlink:href=\"#me93d5ac665\" x=\"364.379667\" y=\"189.127477\" style=\"fill: #ff0000; stroke: #ff0000; stroke-width: 1.5\"/>\n     <use xlink:href=\"#me93d5ac665\" x=\"351.859934\" y=\"46.435888\" style=\"fill: #ff0000; stroke: #ff0000; stroke-width: 1.5\"/>\n     <use xlink:href=\"#me93d5ac665\" x=\"56.505462\" y=\"107.806406\" style=\"fill: #ff0000; stroke: #ff0000; stroke-width: 1.5\"/>\n     <use xlink:href=\"#me93d5ac665\" x=\"154.394232\" y=\"44.933303\" style=\"fill: #ff0000; stroke: #ff0000; stroke-width: 1.5\"/>\n     <use xlink:href=\"#me93d5ac665\" x=\"349.867635\" y=\"189.374171\" style=\"fill: #ff0000; stroke: #ff0000; stroke-width: 1.5\"/>\n     <use xlink:href=\"#me93d5ac665\" x=\"273.268904\" y=\"256.430116\" style=\"fill: #ff0000; stroke: #ff0000; stroke-width: 1.5\"/>\n     <use xlink:href=\"#me93d5ac665\" x=\"75.476068\" y=\"97.939594\" style=\"fill: #ff0000; stroke: #ff0000; stroke-width: 1.5\"/>\n     <use xlink:href=\"#me93d5ac665\" x=\"268.950078\" y=\"250.511688\" style=\"fill: #ff0000; stroke: #ff0000; stroke-width: 1.5\"/>\n     <use xlink:href=\"#me93d5ac665\" x=\"92.453923\" y=\"253.597184\" style=\"fill: #ff0000; stroke: #ff0000; stroke-width: 1.5\"/>\n     <use xlink:href=\"#me93d5ac665\" x=\"61.868101\" y=\"100.975823\" style=\"fill: #ff0000; stroke: #ff0000; stroke-width: 1.5\"/>\n     <use xlink:href=\"#me93d5ac665\" x=\"54.162932\" y=\"112.231091\" style=\"fill: #ff0000; stroke: #ff0000; stroke-width: 1.5\"/>\n     <use xlink:href=\"#me93d5ac665\" x=\"245.362583\" y=\"107.9763\" style=\"fill: #ff0000; stroke: #ff0000; stroke-width: 1.5\"/>\n     <use xlink:href=\"#me93d5ac665\" x=\"327.218843\" y=\"163.937821\" style=\"fill: #ff0000; stroke: #ff0000; stroke-width: 1.5\"/>\n     <use xlink:href=\"#me93d5ac665\" x=\"171.485345\" y=\"32.971129\" style=\"fill: #ff0000; stroke: #ff0000; stroke-width: 1.5\"/>\n     <use xlink:href=\"#me93d5ac665\" x=\"146.869351\" y=\"192.747535\" style=\"fill: #ff0000; stroke: #ff0000; stroke-width: 1.5\"/>\n     <use xlink:href=\"#me93d5ac665\" x=\"184.551463\" y=\"167.136468\" style=\"fill: #ff0000; stroke: #ff0000; stroke-width: 1.5\"/>\n     <use xlink:href=\"#me93d5ac665\" x=\"331.083374\" y=\"32.311212\" style=\"fill: #ff0000; stroke: #ff0000; stroke-width: 1.5\"/>\n     <use xlink:href=\"#me93d5ac665\" x=\"94.93304\" y=\"121.89906\" style=\"fill: #ff0000; stroke: #ff0000; stroke-width: 1.5\"/>\n     <use xlink:href=\"#me93d5ac665\" x=\"265.248204\" y=\"254.483772\" style=\"fill: #ff0000; stroke: #ff0000; stroke-width: 1.5\"/>\n     <use xlink:href=\"#me93d5ac665\" x=\"55.845348\" y=\"232.430193\" style=\"fill: #ff0000; stroke: #ff0000; stroke-width: 1.5\"/>\n     <use xlink:href=\"#me93d5ac665\" x=\"355.45502\" y=\"33.291882\" style=\"fill: #ff0000; stroke: #ff0000; stroke-width: 1.5\"/>\n     <use xlink:href=\"#me93d5ac665\" x=\"73.82297\" y=\"105.50297\" style=\"fill: #ff0000; stroke: #ff0000; stroke-width: 1.5\"/>\n     <use xlink:href=\"#me93d5ac665\" x=\"235.365906\" y=\"246.060519\" style=\"fill: #ff0000; stroke: #ff0000; stroke-width: 1.5\"/>\n     <use xlink:href=\"#me93d5ac665\" x=\"344.764774\" y=\"166.265483\" style=\"fill: #ff0000; stroke: #ff0000; stroke-width: 1.5\"/>\n     <use xlink:href=\"#me93d5ac665\" x=\"154.17199\" y=\"51.467107\" style=\"fill: #ff0000; stroke: #ff0000; stroke-width: 1.5\"/>\n     <use xlink:href=\"#me93d5ac665\" x=\"184.528797\" y=\"160.858198\" style=\"fill: #ff0000; stroke: #ff0000; stroke-width: 1.5\"/>\n    </g>\n   </g>\n   <g id=\"matplotlib.axis_1\">\n    <g id=\"xtick_1\">\n     <g id=\"line2d_1\">\n      <defs>\n       <path id=\"mc7ef39af0d\" d=\"M 0 0 \nL 0 3.5 \n\" style=\"stroke: #000000; stroke-width: 0.8\"/>\n      </defs>\n      <g>\n       <use xlink:href=\"#mc7ef39af0d\" x=\"30.103125\" y=\"277.111219\" style=\"stroke: #000000; stroke-width: 0.8\"/>\n      </g>\n     </g>\n     <g id=\"text_1\">\n      <!-- 0.0 -->\n      <g transform=\"translate(22.151563 291.709656) scale(0.1 -0.1)\">\n       <defs>\n        <path id=\"DejaVuSans-30\" d=\"M 2034 4250 \nQ 1547 4250 1301 3770 \nQ 1056 3291 1056 2328 \nQ 1056 1369 1301 889 \nQ 1547 409 2034 409 \nQ 2525 409 2770 889 \nQ 3016 1369 3016 2328 \nQ 3016 3291 2770 3770 \nQ 2525 4250 2034 4250 \nz\nM 2034 4750 \nQ 2819 4750 3233 4129 \nQ 3647 3509 3647 2328 \nQ 3647 1150 3233 529 \nQ 2819 -91 2034 -91 \nQ 1250 -91 836 529 \nQ 422 1150 422 2328 \nQ 422 3509 836 4129 \nQ 1250 4750 2034 4750 \nz\n\" transform=\"scale(0.015625)\"/>\n        <path id=\"DejaVuSans-2e\" d=\"M 684 794 \nL 1344 794 \nL 1344 0 \nL 684 0 \nL 684 794 \nz\n\" transform=\"scale(0.015625)\"/>\n       </defs>\n       <use xlink:href=\"#DejaVuSans-30\"/>\n       <use xlink:href=\"#DejaVuSans-2e\" x=\"63.623047\"/>\n       <use xlink:href=\"#DejaVuSans-30\" x=\"95.410156\"/>\n      </g>\n     </g>\n    </g>\n    <g id=\"xtick_2\">\n     <g id=\"line2d_2\">\n      <g>\n       <use xlink:href=\"#mc7ef39af0d\" x=\"101.527125\" y=\"277.111219\" style=\"stroke: #000000; stroke-width: 0.8\"/>\n      </g>\n     </g>\n     <g id=\"text_2\">\n      <!-- 0.2 -->\n      <g transform=\"translate(93.575563 291.709656) scale(0.1 -0.1)\">\n       <defs>\n        <path id=\"DejaVuSans-32\" d=\"M 1228 531 \nL 3431 531 \nL 3431 0 \nL 469 0 \nL 469 531 \nQ 828 903 1448 1529 \nQ 2069 2156 2228 2338 \nQ 2531 2678 2651 2914 \nQ 2772 3150 2772 3378 \nQ 2772 3750 2511 3984 \nQ 2250 4219 1831 4219 \nQ 1534 4219 1204 4116 \nQ 875 4013 500 3803 \nL 500 4441 \nQ 881 4594 1212 4672 \nQ 1544 4750 1819 4750 \nQ 2544 4750 2975 4387 \nQ 3406 4025 3406 3419 \nQ 3406 3131 3298 2873 \nQ 3191 2616 2906 2266 \nQ 2828 2175 2409 1742 \nQ 1991 1309 1228 531 \nz\n\" transform=\"scale(0.015625)\"/>\n       </defs>\n       <use xlink:href=\"#DejaVuSans-30\"/>\n       <use xlink:href=\"#DejaVuSans-2e\" x=\"63.623047\"/>\n       <use xlink:href=\"#DejaVuSans-32\" x=\"95.410156\"/>\n      </g>\n     </g>\n    </g>\n    <g id=\"xtick_3\">\n     <g id=\"line2d_3\">\n      <g>\n       <use xlink:href=\"#mc7ef39af0d\" x=\"172.951125\" y=\"277.111219\" style=\"stroke: #000000; stroke-width: 0.8\"/>\n      </g>\n     </g>\n     <g id=\"text_3\">\n      <!-- 0.4 -->\n      <g transform=\"translate(164.999563 291.709656) scale(0.1 -0.1)\">\n       <defs>\n        <path id=\"DejaVuSans-34\" d=\"M 2419 4116 \nL 825 1625 \nL 2419 1625 \nL 2419 4116 \nz\nM 2253 4666 \nL 3047 4666 \nL 3047 1625 \nL 3713 1625 \nL 3713 1100 \nL 3047 1100 \nL 3047 0 \nL 2419 0 \nL 2419 1100 \nL 313 1100 \nL 313 1709 \nL 2253 4666 \nz\n\" transform=\"scale(0.015625)\"/>\n       </defs>\n       <use xlink:href=\"#DejaVuSans-30\"/>\n       <use xlink:href=\"#DejaVuSans-2e\" x=\"63.623047\"/>\n       <use xlink:href=\"#DejaVuSans-34\" x=\"95.410156\"/>\n      </g>\n     </g>\n    </g>\n    <g id=\"xtick_4\">\n     <g id=\"line2d_4\">\n      <g>\n       <use xlink:href=\"#mc7ef39af0d\" x=\"244.375125\" y=\"277.111219\" style=\"stroke: #000000; stroke-width: 0.8\"/>\n      </g>\n     </g>\n     <g id=\"text_4\">\n      <!-- 0.6 -->\n      <g transform=\"translate(236.423563 291.709656) scale(0.1 -0.1)\">\n       <defs>\n        <path id=\"DejaVuSans-36\" d=\"M 2113 2584 \nQ 1688 2584 1439 2293 \nQ 1191 2003 1191 1497 \nQ 1191 994 1439 701 \nQ 1688 409 2113 409 \nQ 2538 409 2786 701 \nQ 3034 994 3034 1497 \nQ 3034 2003 2786 2293 \nQ 2538 2584 2113 2584 \nz\nM 3366 4563 \nL 3366 3988 \nQ 3128 4100 2886 4159 \nQ 2644 4219 2406 4219 \nQ 1781 4219 1451 3797 \nQ 1122 3375 1075 2522 \nQ 1259 2794 1537 2939 \nQ 1816 3084 2150 3084 \nQ 2853 3084 3261 2657 \nQ 3669 2231 3669 1497 \nQ 3669 778 3244 343 \nQ 2819 -91 2113 -91 \nQ 1303 -91 875 529 \nQ 447 1150 447 2328 \nQ 447 3434 972 4092 \nQ 1497 4750 2381 4750 \nQ 2619 4750 2861 4703 \nQ 3103 4656 3366 4563 \nz\n\" transform=\"scale(0.015625)\"/>\n       </defs>\n       <use xlink:href=\"#DejaVuSans-30\"/>\n       <use xlink:href=\"#DejaVuSans-2e\" x=\"63.623047\"/>\n       <use xlink:href=\"#DejaVuSans-36\" x=\"95.410156\"/>\n      </g>\n     </g>\n    </g>\n    <g id=\"xtick_5\">\n     <g id=\"line2d_5\">\n      <g>\n       <use xlink:href=\"#mc7ef39af0d\" x=\"315.799125\" y=\"277.111219\" style=\"stroke: #000000; stroke-width: 0.8\"/>\n      </g>\n     </g>\n     <g id=\"text_5\">\n      <!-- 0.8 -->\n      <g transform=\"translate(307.847562 291.709656) scale(0.1 -0.1)\">\n       <defs>\n        <path id=\"DejaVuSans-38\" d=\"M 2034 2216 \nQ 1584 2216 1326 1975 \nQ 1069 1734 1069 1313 \nQ 1069 891 1326 650 \nQ 1584 409 2034 409 \nQ 2484 409 2743 651 \nQ 3003 894 3003 1313 \nQ 3003 1734 2745 1975 \nQ 2488 2216 2034 2216 \nz\nM 1403 2484 \nQ 997 2584 770 2862 \nQ 544 3141 544 3541 \nQ 544 4100 942 4425 \nQ 1341 4750 2034 4750 \nQ 2731 4750 3128 4425 \nQ 3525 4100 3525 3541 \nQ 3525 3141 3298 2862 \nQ 3072 2584 2669 2484 \nQ 3125 2378 3379 2068 \nQ 3634 1759 3634 1313 \nQ 3634 634 3220 271 \nQ 2806 -91 2034 -91 \nQ 1263 -91 848 271 \nQ 434 634 434 1313 \nQ 434 1759 690 2068 \nQ 947 2378 1403 2484 \nz\nM 1172 3481 \nQ 1172 3119 1398 2916 \nQ 1625 2713 2034 2713 \nQ 2441 2713 2670 2916 \nQ 2900 3119 2900 3481 \nQ 2900 3844 2670 4047 \nQ 2441 4250 2034 4250 \nQ 1625 4250 1398 4047 \nQ 1172 3844 1172 3481 \nz\n\" transform=\"scale(0.015625)\"/>\n       </defs>\n       <use xlink:href=\"#DejaVuSans-30\"/>\n       <use xlink:href=\"#DejaVuSans-2e\" x=\"63.623047\"/>\n       <use xlink:href=\"#DejaVuSans-38\" x=\"95.410156\"/>\n      </g>\n     </g>\n    </g>\n    <g id=\"xtick_6\">\n     <g id=\"line2d_6\">\n      <g>\n       <use xlink:href=\"#mc7ef39af0d\" x=\"387.223125\" y=\"277.111219\" style=\"stroke: #000000; stroke-width: 0.8\"/>\n      </g>\n     </g>\n     <g id=\"text_6\">\n      <!-- 1.0 -->\n      <g transform=\"translate(379.271562 291.709656) scale(0.1 -0.1)\">\n       <defs>\n        <path id=\"DejaVuSans-31\" d=\"M 794 531 \nL 1825 531 \nL 1825 4091 \nL 703 3866 \nL 703 4441 \nL 1819 4666 \nL 2450 4666 \nL 2450 531 \nL 3481 531 \nL 3481 0 \nL 794 0 \nL 794 531 \nz\n\" transform=\"scale(0.015625)\"/>\n       </defs>\n       <use xlink:href=\"#DejaVuSans-31\"/>\n       <use xlink:href=\"#DejaVuSans-2e\" x=\"63.623047\"/>\n       <use xlink:href=\"#DejaVuSans-30\" x=\"95.410156\"/>\n      </g>\n     </g>\n    </g>\n   </g>\n   <g id=\"matplotlib.axis_2\">\n    <g id=\"ytick_1\">\n     <g id=\"line2d_7\">\n      <defs>\n       <path id=\"m5a3dd49208\" d=\"M 0 0 \nL -3.5 0 \n\" style=\"stroke: #000000; stroke-width: 0.8\"/>\n      </defs>\n      <g>\n       <use xlink:href=\"#m5a3dd49208\" x=\"30.103125\" y=\"277.111219\" style=\"stroke: #000000; stroke-width: 0.8\"/>\n      </g>\n     </g>\n     <g id=\"text_7\">\n      <!-- 0.0 -->\n      <g transform=\"translate(7.2 280.910437) scale(0.1 -0.1)\">\n       <use xlink:href=\"#DejaVuSans-30\"/>\n       <use xlink:href=\"#DejaVuSans-2e\" x=\"63.623047\"/>\n       <use xlink:href=\"#DejaVuSans-30\" x=\"95.410156\"/>\n      </g>\n     </g>\n    </g>\n    <g id=\"ytick_2\">\n     <g id=\"line2d_8\">\n      <g>\n       <use xlink:href=\"#m5a3dd49208\" x=\"30.103125\" y=\"223.888819\" style=\"stroke: #000000; stroke-width: 0.8\"/>\n      </g>\n     </g>\n     <g id=\"text_8\">\n      <!-- 0.2 -->\n      <g transform=\"translate(7.2 227.688037) scale(0.1 -0.1)\">\n       <use xlink:href=\"#DejaVuSans-30\"/>\n       <use xlink:href=\"#DejaVuSans-2e\" x=\"63.623047\"/>\n       <use xlink:href=\"#DejaVuSans-32\" x=\"95.410156\"/>\n      </g>\n     </g>\n    </g>\n    <g id=\"ytick_3\">\n     <g id=\"line2d_9\">\n      <g>\n       <use xlink:href=\"#m5a3dd49208\" x=\"30.103125\" y=\"170.666419\" style=\"stroke: #000000; stroke-width: 0.8\"/>\n      </g>\n     </g>\n     <g id=\"text_9\">\n      <!-- 0.4 -->\n      <g transform=\"translate(7.2 174.465637) scale(0.1 -0.1)\">\n       <use xlink:href=\"#DejaVuSans-30\"/>\n       <use xlink:href=\"#DejaVuSans-2e\" x=\"63.623047\"/>\n       <use xlink:href=\"#DejaVuSans-34\" x=\"95.410156\"/>\n      </g>\n     </g>\n    </g>\n    <g id=\"ytick_4\">\n     <g id=\"line2d_10\">\n      <g>\n       <use xlink:href=\"#m5a3dd49208\" x=\"30.103125\" y=\"117.444019\" style=\"stroke: #000000; stroke-width: 0.8\"/>\n      </g>\n     </g>\n     <g id=\"text_10\">\n      <!-- 0.6 -->\n      <g transform=\"translate(7.2 121.243237) scale(0.1 -0.1)\">\n       <use xlink:href=\"#DejaVuSans-30\"/>\n       <use xlink:href=\"#DejaVuSans-2e\" x=\"63.623047\"/>\n       <use xlink:href=\"#DejaVuSans-36\" x=\"95.410156\"/>\n      </g>\n     </g>\n    </g>\n    <g id=\"ytick_5\">\n     <g id=\"line2d_11\">\n      <g>\n       <use xlink:href=\"#m5a3dd49208\" x=\"30.103125\" y=\"64.221619\" style=\"stroke: #000000; stroke-width: 0.8\"/>\n      </g>\n     </g>\n     <g id=\"text_11\">\n      <!-- 0.8 -->\n      <g transform=\"translate(7.2 68.020837) scale(0.1 -0.1)\">\n       <use xlink:href=\"#DejaVuSans-30\"/>\n       <use xlink:href=\"#DejaVuSans-2e\" x=\"63.623047\"/>\n       <use xlink:href=\"#DejaVuSans-38\" x=\"95.410156\"/>\n      </g>\n     </g>\n    </g>\n    <g id=\"ytick_6\">\n     <g id=\"line2d_12\">\n      <g>\n       <use xlink:href=\"#m5a3dd49208\" x=\"30.103125\" y=\"10.999219\" style=\"stroke: #000000; stroke-width: 0.8\"/>\n      </g>\n     </g>\n     <g id=\"text_12\">\n      <!-- 1.0 -->\n      <g transform=\"translate(7.2 14.798437) scale(0.1 -0.1)\">\n       <use xlink:href=\"#DejaVuSans-31\"/>\n       <use xlink:href=\"#DejaVuSans-2e\" x=\"63.623047\"/>\n       <use xlink:href=\"#DejaVuSans-30\" x=\"95.410156\"/>\n      </g>\n     </g>\n    </g>\n   </g>\n   <g id=\"patch_3\">\n    <path d=\"M 30.103125 277.111219 \nL 30.103125 10.999219 \n\" style=\"fill: none; stroke: #000000; stroke-width: 0.8; stroke-linejoin: miter; stroke-linecap: square\"/>\n   </g>\n   <g id=\"patch_4\">\n    <path d=\"M 387.223125 277.111219 \nL 387.223125 10.999219 \n\" style=\"fill: none; stroke: #000000; stroke-width: 0.8; stroke-linejoin: miter; stroke-linecap: square\"/>\n   </g>\n   <g id=\"patch_5\">\n    <path d=\"M 30.103125 277.111219 \nL 387.223125 277.111219 \n\" style=\"fill: none; stroke: #000000; stroke-width: 0.8; stroke-linejoin: miter; stroke-linecap: square\"/>\n   </g>\n   <g id=\"patch_6\">\n    <path d=\"M 30.103125 10.999219 \nL 387.223125 10.999219 \n\" style=\"fill: none; stroke: #000000; stroke-width: 0.8; stroke-linejoin: miter; stroke-linecap: square\"/>\n   </g>\n   <g id=\"legend_1\">\n    <g id=\"patch_7\">\n     <path d=\"M 172.862344 77.711719 \nL 244.463906 77.711719 \nQ 246.463906 77.711719 246.463906 75.711719 \nL 246.463906 17.999219 \nQ 246.463906 15.999219 244.463906 15.999219 \nL 172.862344 15.999219 \nQ 170.862344 15.999219 170.862344 17.999219 \nL 170.862344 75.711719 \nQ 170.862344 77.711719 172.862344 77.711719 \nz\n\" style=\"fill: #ffffff; opacity: 0.8; stroke: #cccccc; stroke-linejoin: miter\"/>\n    </g>\n    <g id=\"PathCollection_5\">\n     <g>\n      <use xlink:href=\"#m59ee2c41c0\" x=\"184.862344\" y=\"24.972656\" style=\"fill: #0000ff; stroke: #0000ff\"/>\n     </g>\n    </g>\n    <g id=\"text_13\">\n     <!-- train, 1 -->\n     <g transform=\"translate(202.862344 27.597656) scale(0.1 -0.1)\">\n      <defs>\n       <path id=\"DejaVuSans-74\" d=\"M 1172 4494 \nL 1172 3500 \nL 2356 3500 \nL 2356 3053 \nL 1172 3053 \nL 1172 1153 \nQ 1172 725 1289 603 \nQ 1406 481 1766 481 \nL 2356 481 \nL 2356 0 \nL 1766 0 \nQ 1100 0 847 248 \nQ 594 497 594 1153 \nL 594 3053 \nL 172 3053 \nL 172 3500 \nL 594 3500 \nL 594 4494 \nL 1172 4494 \nz\n\" transform=\"scale(0.015625)\"/>\n       <path id=\"DejaVuSans-72\" d=\"M 2631 2963 \nQ 2534 3019 2420 3045 \nQ 2306 3072 2169 3072 \nQ 1681 3072 1420 2755 \nQ 1159 2438 1159 1844 \nL 1159 0 \nL 581 0 \nL 581 3500 \nL 1159 3500 \nL 1159 2956 \nQ 1341 3275 1631 3429 \nQ 1922 3584 2338 3584 \nQ 2397 3584 2469 3576 \nQ 2541 3569 2628 3553 \nL 2631 2963 \nz\n\" transform=\"scale(0.015625)\"/>\n       <path id=\"DejaVuSans-61\" d=\"M 2194 1759 \nQ 1497 1759 1228 1600 \nQ 959 1441 959 1056 \nQ 959 750 1161 570 \nQ 1363 391 1709 391 \nQ 2188 391 2477 730 \nQ 2766 1069 2766 1631 \nL 2766 1759 \nL 2194 1759 \nz\nM 3341 1997 \nL 3341 0 \nL 2766 0 \nL 2766 531 \nQ 2569 213 2275 61 \nQ 1981 -91 1556 -91 \nQ 1019 -91 701 211 \nQ 384 513 384 1019 \nQ 384 1609 779 1909 \nQ 1175 2209 1959 2209 \nL 2766 2209 \nL 2766 2266 \nQ 2766 2663 2505 2880 \nQ 2244 3097 1772 3097 \nQ 1472 3097 1187 3025 \nQ 903 2953 641 2809 \nL 641 3341 \nQ 956 3463 1253 3523 \nQ 1550 3584 1831 3584 \nQ 2591 3584 2966 3190 \nQ 3341 2797 3341 1997 \nz\n\" transform=\"scale(0.015625)\"/>\n       <path id=\"DejaVuSans-69\" d=\"M 603 3500 \nL 1178 3500 \nL 1178 0 \nL 603 0 \nL 603 3500 \nz\nM 603 4863 \nL 1178 4863 \nL 1178 4134 \nL 603 4134 \nL 603 4863 \nz\n\" transform=\"scale(0.015625)\"/>\n       <path id=\"DejaVuSans-6e\" d=\"M 3513 2113 \nL 3513 0 \nL 2938 0 \nL 2938 2094 \nQ 2938 2591 2744 2837 \nQ 2550 3084 2163 3084 \nQ 1697 3084 1428 2787 \nQ 1159 2491 1159 1978 \nL 1159 0 \nL 581 0 \nL 581 3500 \nL 1159 3500 \nL 1159 2956 \nQ 1366 3272 1645 3428 \nQ 1925 3584 2291 3584 \nQ 2894 3584 3203 3211 \nQ 3513 2838 3513 2113 \nz\n\" transform=\"scale(0.015625)\"/>\n       <path id=\"DejaVuSans-2c\" d=\"M 750 794 \nL 1409 794 \nL 1409 256 \nL 897 -744 \nL 494 -744 \nL 750 256 \nL 750 794 \nz\n\" transform=\"scale(0.015625)\"/>\n       <path id=\"DejaVuSans-20\" transform=\"scale(0.015625)\"/>\n      </defs>\n      <use xlink:href=\"#DejaVuSans-74\"/>\n      <use xlink:href=\"#DejaVuSans-72\" x=\"39.208984\"/>\n      <use xlink:href=\"#DejaVuSans-61\" x=\"80.322266\"/>\n      <use xlink:href=\"#DejaVuSans-69\" x=\"141.601562\"/>\n      <use xlink:href=\"#DejaVuSans-6e\" x=\"169.384766\"/>\n      <use xlink:href=\"#DejaVuSans-2c\" x=\"232.763672\"/>\n      <use xlink:href=\"#DejaVuSans-20\" x=\"264.550781\"/>\n      <use xlink:href=\"#DejaVuSans-31\" x=\"296.337891\"/>\n     </g>\n    </g>\n    <g id=\"PathCollection_6\">\n     <g>\n      <use xlink:href=\"#m66ff950cbd\" x=\"184.862344\" y=\"39.650781\" style=\"fill: #ff0000; stroke: #ff0000\"/>\n     </g>\n    </g>\n    <g id=\"text_14\">\n     <!-- train, -1 -->\n     <g transform=\"translate(202.862344 42.275781) scale(0.1 -0.1)\">\n      <defs>\n       <path id=\"DejaVuSans-2d\" d=\"M 313 2009 \nL 1997 2009 \nL 1997 1497 \nL 313 1497 \nL 313 2009 \nz\n\" transform=\"scale(0.015625)\"/>\n      </defs>\n      <use xlink:href=\"#DejaVuSans-74\"/>\n      <use xlink:href=\"#DejaVuSans-72\" x=\"39.208984\"/>\n      <use xlink:href=\"#DejaVuSans-61\" x=\"80.322266\"/>\n      <use xlink:href=\"#DejaVuSans-69\" x=\"141.601562\"/>\n      <use xlink:href=\"#DejaVuSans-6e\" x=\"169.384766\"/>\n      <use xlink:href=\"#DejaVuSans-2c\" x=\"232.763672\"/>\n      <use xlink:href=\"#DejaVuSans-20\" x=\"264.550781\"/>\n      <use xlink:href=\"#DejaVuSans-2d\" x=\"296.337891\"/>\n      <use xlink:href=\"#DejaVuSans-31\" x=\"332.421875\"/>\n     </g>\n    </g>\n    <g id=\"PathCollection_7\">\n     <g>\n      <use xlink:href=\"#mf6c64866d6\" x=\"184.862344\" y=\"54.328906\" style=\"fill: #0000ff; stroke: #0000ff; stroke-width: 1.5\"/>\n     </g>\n    </g>\n    <g id=\"text_15\">\n     <!-- test, 1 -->\n     <g transform=\"translate(202.862344 56.953906) scale(0.1 -0.1)\">\n      <defs>\n       <path id=\"DejaVuSans-65\" d=\"M 3597 1894 \nL 3597 1613 \nL 953 1613 \nQ 991 1019 1311 708 \nQ 1631 397 2203 397 \nQ 2534 397 2845 478 \nQ 3156 559 3463 722 \nL 3463 178 \nQ 3153 47 2828 -22 \nQ 2503 -91 2169 -91 \nQ 1331 -91 842 396 \nQ 353 884 353 1716 \nQ 353 2575 817 3079 \nQ 1281 3584 2069 3584 \nQ 2775 3584 3186 3129 \nQ 3597 2675 3597 1894 \nz\nM 3022 2063 \nQ 3016 2534 2758 2815 \nQ 2500 3097 2075 3097 \nQ 1594 3097 1305 2825 \nQ 1016 2553 972 2059 \nL 3022 2063 \nz\n\" transform=\"scale(0.015625)\"/>\n       <path id=\"DejaVuSans-73\" d=\"M 2834 3397 \nL 2834 2853 \nQ 2591 2978 2328 3040 \nQ 2066 3103 1784 3103 \nQ 1356 3103 1142 2972 \nQ 928 2841 928 2578 \nQ 928 2378 1081 2264 \nQ 1234 2150 1697 2047 \nL 1894 2003 \nQ 2506 1872 2764 1633 \nQ 3022 1394 3022 966 \nQ 3022 478 2636 193 \nQ 2250 -91 1575 -91 \nQ 1294 -91 989 -36 \nQ 684 19 347 128 \nL 347 722 \nQ 666 556 975 473 \nQ 1284 391 1588 391 \nQ 1994 391 2212 530 \nQ 2431 669 2431 922 \nQ 2431 1156 2273 1281 \nQ 2116 1406 1581 1522 \nL 1381 1569 \nQ 847 1681 609 1914 \nQ 372 2147 372 2553 \nQ 372 3047 722 3315 \nQ 1072 3584 1716 3584 \nQ 2034 3584 2315 3537 \nQ 2597 3491 2834 3397 \nz\n\" transform=\"scale(0.015625)\"/>\n      </defs>\n      <use xlink:href=\"#DejaVuSans-74\"/>\n      <use xlink:href=\"#DejaVuSans-65\" x=\"39.208984\"/>\n      <use xlink:href=\"#DejaVuSans-73\" x=\"100.732422\"/>\n      <use xlink:href=\"#DejaVuSans-74\" x=\"152.832031\"/>\n      <use xlink:href=\"#DejaVuSans-2c\" x=\"192.041016\"/>\n      <use xlink:href=\"#DejaVuSans-20\" x=\"223.828125\"/>\n      <use xlink:href=\"#DejaVuSans-31\" x=\"255.615234\"/>\n     </g>\n    </g>\n    <g id=\"PathCollection_8\">\n     <g>\n      <use xlink:href=\"#me93d5ac665\" x=\"184.862344\" y=\"69.007031\" style=\"fill: #ff0000; stroke: #ff0000; stroke-width: 1.5\"/>\n     </g>\n    </g>\n    <g id=\"text_16\">\n     <!-- test, -1 -->\n     <g transform=\"translate(202.862344 71.632031) scale(0.1 -0.1)\">\n      <use xlink:href=\"#DejaVuSans-74\"/>\n      <use xlink:href=\"#DejaVuSans-65\" x=\"39.208984\"/>\n      <use xlink:href=\"#DejaVuSans-73\" x=\"100.732422\"/>\n      <use xlink:href=\"#DejaVuSans-74\" x=\"152.832031\"/>\n      <use xlink:href=\"#DejaVuSans-2c\" x=\"192.041016\"/>\n      <use xlink:href=\"#DejaVuSans-20\" x=\"223.828125\"/>\n      <use xlink:href=\"#DejaVuSans-2d\" x=\"255.615234\"/>\n      <use xlink:href=\"#DejaVuSans-31\" x=\"291.699219\"/>\n     </g>\n    </g>\n   </g>\n  </g>\n </g>\n <defs>\n  <clipPath id=\"p3eeeacb847\">\n   <rect x=\"30.103125\" y=\"10.999219\" width=\"357.12\" height=\"266.112\"/>\n  </clipPath>\n </defs>\n</svg>\n"
     },
     "metadata": {},
     "output_type": "display_data"
    }
   ],
   "source": [
    "X_train, y_train, X_test, y_test = tuple(r0)\n",
    "\n",
    "X_train_pos = X_train[np.where(y_train == 1)[0],:]\n",
    "X_train_neg = X_train[np.where(y_train == -1)[0],:]\n",
    "X_test_pos = X_test[np.where(y_test == 1)[0],:]\n",
    "X_test_neg = X_test[np.where(y_test == -1)[0],:]\n",
    "plt.scatter(X_train_pos[:,0], X_train_pos[:,1], color=\"b\", marker=\".\", label=\"train, 1\")\n",
    "plt.scatter(X_train_neg[:,0], X_train_neg[:,1], color=\"r\", marker=\".\", label=\"train, -1\")\n",
    "plt.scatter(X_test_pos[:,0], X_test_pos[:,1], color=\"b\", marker=\"x\", label=\"test, 1\")\n",
    "plt.scatter(X_test_neg[:,0], X_test_neg[:,1], color=\"r\", marker=\"x\", label=\"test, -1\")\n",
    "plt.xlim(xlims)\n",
    "plt.ylim(ylims)\n",
    "plt.legend()"
   ],
   "metadata": {
    "collapsed": false,
    "pycharm": {
     "name": "#%%\n"
    }
   }
  },
  {
   "cell_type": "code",
   "execution_count": 7,
   "outputs": [],
   "source": [
    "def layer(x, params, wires, i0=0, inc=1):\n",
    "    \"\"\"Building block of the embedding Ansatz.\n",
    "    Args:\n",
    "        x (ndarray): Data to be embedded.\n",
    "        params (ndarray): Trainable circuit parameters.\n",
    "        wires (qml.Wires): Qubits to act on.\n",
    "        i0 (int): Wire on which the first embedding rotation gate acts.\n",
    "        inc (int): Increment between wires on which the embedding rotation gates act.\n",
    "    Comments:\n",
    "        Note that this circuit iterates cyclically over the feature vector to be embedded.\n",
    "    \"\"\"\n",
    "    i = i0\n",
    "    for j, wire in enumerate(wires):\n",
    "        qml.Hadamard(wires=[wire])\n",
    "        qml.RZ(x[i % len(x)], wires=[wire])\n",
    "        i += inc\n",
    "        qml.RY(params[0, j], wires=[wire])\n",
    "\n",
    "    qml.broadcast(unitary=qml.CRZ, pattern=\"ring\", wires=wires, parameters=params[1])\n",
    "\n",
    "def ansatz(x, params, wires):\n",
    "    \"\"\"The embedding Ansatz\"\"\"\n",
    "    for j, layer_params in enumerate(params):\n",
    "        layer(x, layer_params, wires, i0=j * len(wires))\n",
    "\n",
    "def prediction_accuracy(y_predicted, y_target):\n",
    "    return 1 - np.count_nonzero(y_predicted - y_target) / len(y_target)\n",
    "\n",
    "def get_random_params(num_wires, num_layers):\n",
    "    return np.random.uniform(0, 2*np.pi, (num_layers, 2, num_wires))\n",
    "\n",
    "def target_alignment(X,Y,kernel,assume_normalized_kernel=False,rescale_class_labels=True):\n",
    "    \"\"\"Kernel-target alignment between kernel and labels.\"\"\"\n",
    "    K = qml.kernels.square_kernel_matrix(X,kernel,assume_normalized_kernel=assume_normalized_kernel)\n",
    "\n",
    "    if rescale_class_labels:\n",
    "        nplus = np.count_nonzero(np.array(Y) == 1)\n",
    "        nminus = len(Y) - nplus\n",
    "        _Y = np.array([y / nplus if y == 1 else y / nminus for y in Y])\n",
    "    else:\n",
    "        _Y = np.array(Y)\n",
    "\n",
    "    T = np.outer(_Y, _Y)\n",
    "    inner_product = np.sum(K * T)\n",
    "    norm = np.sqrt(np.sum(K * K) * np.sum(T * T))\n",
    "    inner_product = inner_product / norm\n",
    "\n",
    "    return inner_product"
   ],
   "metadata": {
    "collapsed": false,
    "pycharm": {
     "name": "#%%\n"
    }
   }
  },
  {
   "cell_type": "code",
   "execution_count": 15,
   "outputs": [],
   "source": [
    "def node_train(it, para, r, r0, pipes, num_wires = 5, num_epochs = 1000):\n",
    "    paral = list()\n",
    "    astr = []\n",
    "    aste = []\n",
    "    awte = []\n",
    "\n",
    "    dev = qml.device(\"default.qubit\", wires=num_wires)\n",
    "    wires = list(range(num_wires))\n",
    "    @qml.qnode(dev, diff_method=\"backprop\")\n",
    "    def kernel(x1, x2, params):\n",
    "        ansatz(x1, params, wires)\n",
    "        qml.adjoint(ansatz)(x2, params, wires)\n",
    "        return qml.expval(qml.Projector([0]*num_wires, wires=wires))\n",
    "    X_train, y_train, X_test, y_test = tuple(r)\n",
    "    X_train0, y_train0, X_test0, y_test0 = tuple(r0)\n",
    "    training_alignment = []\n",
    "    mapped_kernel = lambda X1, X2: kernel(X1, X2, para)\n",
    "\n",
    "    paral.append(para)\n",
    "    mapped_kernel_matrix = lambda X1, X2: qml.kernels.kernel_matrix(X1, X2, mapped_kernel)\n",
    "    svm_trained_kernel = SVC(kernel=mapped_kernel_matrix).fit(X_train, y_train)\n",
    "    trained_train_predict = svm_trained_kernel.predict(X_train)\n",
    "    trained_test_predict = svm_trained_kernel.predict(X_test)\n",
    "    trained_train_accuracy = prediction_accuracy(trained_train_predict, y_train)\n",
    "    print(\"with kernel training accuracy on self_train\", trained_train_accuracy)\n",
    "    trained_test_accuracy = prediction_accuracy(trained_test_predict, y_test)\n",
    "    print(\"with kernel training accuracy on self_test\", trained_test_accuracy)\n",
    "    astr.append(trained_train_accuracy)\n",
    "    aste.append(trained_test_accuracy)\n",
    "    trained_test_predict = svm_trained_kernel.predict(X_test0)\n",
    "    trained_test_accuracy = prediction_accuracy(trained_test_predict, y_test0)\n",
    "    awte.append(trained_test_accuracy)\n",
    "    print(\"with kernel training accuracy on whole_test\", trained_test_accuracy)\n",
    "\n",
    "    alignment = target_alignment(X_train,y_train,mapped_kernel,assume_normalized_kernel=True,rescale_class_labels=True)\n",
    "    training_alignment.append(alignment)\n",
    "    print('Node '+str(it)+\": Step 0 - Alignment on train = {:.3f}\".format(alignment))\n",
    "    opt = qml.GradientDescentOptimizer(0.2)\n",
    "    num = len(pipes)\n",
    "    for j in range(num):\n",
    "        pipes[j].send(para)\n",
    "    for i in tqdm(range(num_epochs)):\n",
    "        # start = time.time()\n",
    "        subset = np.random.choice(list(range(len(X_train))), 4)\n",
    "        mapped_neg_alignment = lambda par: -target_alignment(X_train[subset],y_train[subset],lambda X1, X2: kernel(X1, X2, par),assume_normalized_kernel=True,rescale_class_labels=True)\n",
    "        # grad, out = opt.compute_grad(mapped_neg_alignment, tuple([params]), {})\n",
    "        # new_args = opt.apply_grad(grad, tuple([params]))\n",
    "        # if len(new_args) == 1:\n",
    "        #     params = new_args[0]\n",
    "        for j in range(num):\n",
    "            para = para + pipes[j].recv()\n",
    "        para = para/(num+1)\n",
    "        para = opt.step(mapped_neg_alignment, para)\n",
    "        for j in range(num):\n",
    "            pipes[j].send(para)\n",
    "        # end = time.time()\n",
    "        # print (str(end-start))\n",
    "        if (i+1) % 50 == 0:\n",
    "            mapped_kernel = lambda X1, X2: kernel(X1, X2, para)\n",
    "\n",
    "            paral.append(params)\n",
    "            mapped_kernel_matrix = lambda X1, X2: qml.kernels.kernel_matrix(X1, X2, mapped_kernel)\n",
    "            svm_trained_kernel = SVC(kernel=mapped_kernel_matrix).fit(X_train, y_train)\n",
    "            trained_train_predict = svm_trained_kernel.predict(X_train)\n",
    "            trained_test_predict = svm_trained_kernel.predict(X_test)\n",
    "            trained_train_accuracy = prediction_accuracy(trained_train_predict, y_train)\n",
    "            trained_test_accuracy = prediction_accuracy(trained_test_predict, y_test)\n",
    "            astr.append(trained_train_accuracy)\n",
    "            print(\"with kernel training accuracy on self_train\", trained_train_accuracy)\n",
    "            aste.append(trained_test_accuracy)\n",
    "            print(\"with kernel training accuracy on self_test\", trained_test_accuracy)\n",
    "            trained_test_predict = svm_trained_kernel.predict(X_test0)\n",
    "            trained_test_accuracy = prediction_accuracy(trained_test_predict, y_test0)\n",
    "            awte.append(trained_test_accuracy)\n",
    "            print(\"with kernel training accuracy on whole_test\", trained_test_accuracy)\n",
    "\n",
    "            alignment = target_alignment(X_train,y_train,mapped_kernel,assume_normalized_kernel=True,rescale_class_labels=True)\n",
    "            training_alignment.append(alignment)\n",
    "            print('Node '+str(it)+\": Step {} - Alignment on train = {:.3f}\".format(i+1, alignment))\n",
    "    trained_params = para.copy()\n",
    "    with open('p_r'+str(it)+'_tra_d_0.2.pickle', 'wb') as f:\n",
    "        dump(trained_params, f)\n",
    "    x = np.linspace(0,num_epochs,int(num_epochs/50)+1)\n",
    "    plt.plot(x,training_alignment)\n",
    "    plt.title(\"Training Result of Node {}\".format(it))\n",
    "    return trained_params"
   ],
   "metadata": {
    "collapsed": false,
    "pycharm": {
     "name": "#%%\n"
    }
   }
  },
  {
   "cell_type": "code",
   "execution_count": 16,
   "outputs": [],
   "source": [
    "node_num = 4\n",
    "par_l = list()\n",
    "for i in range(node_num):\n",
    "    with open('p_r'+str(i+1)+'_ini.pickle', 'rb') as f:\n",
    "        par_l.append(load(f))"
   ],
   "metadata": {
    "collapsed": false,
    "pycharm": {
     "name": "#%%\n"
    }
   }
  },
  {
   "cell_type": "code",
   "execution_count": 17,
   "outputs": [],
   "source": [
    "conn121, conn122 = multiprocessing.Pipe()\n",
    "conn231, conn232 = multiprocessing.Pipe()\n",
    "conn341, conn342 = multiprocessing.Pipe()\n",
    "conn141, conn142 = multiprocessing.Pipe()\n",
    "c1 = [conn121, conn142]\n",
    "c2 = [conn122, conn231]\n",
    "c3 = [conn232, conn341]\n",
    "c4 = [conn342, conn141]\n",
    "c = [c1, c2, c3, c4]"
   ],
   "metadata": {
    "collapsed": false,
    "pycharm": {
     "name": "#%%\n"
    }
   }
  },
  {
   "cell_type": "code",
   "execution_count": 18,
   "outputs": [
    {
     "name": "stdout",
     "output_type": "stream",
     "text": [
      "Node 2: Step 0 - Alignment on train = 0.032\n",
      "Node 4: Step 0 - Alignment on train = 0.030\n"
     ]
    },
    {
     "data": {
      "text/plain": "  0%|          | 0/1000 [00:00<?, ?it/s]",
      "application/vnd.jupyter.widget-view+json": {
       "version_major": 2,
       "version_minor": 0,
       "model_id": "aa5af7acce824b2fa4368090e970f69d"
      }
     },
     "metadata": {},
     "output_type": "display_data"
    },
    {
     "data": {
      "text/plain": "  0%|          | 0/1000 [00:00<?, ?it/s]",
      "application/vnd.jupyter.widget-view+json": {
       "version_major": 2,
       "version_minor": 0,
       "model_id": "87bdee523fba48749a2ad30c3c91e2dd"
      }
     },
     "metadata": {},
     "output_type": "display_data"
    },
    {
     "name": "stdout",
     "output_type": "stream",
     "text": [
      "Node 3: Step 0 - Alignment on train = 0.046\n"
     ]
    },
    {
     "data": {
      "text/plain": "  0%|          | 0/1000 [00:00<?, ?it/s]",
      "application/vnd.jupyter.widget-view+json": {
       "version_major": 2,
       "version_minor": 0,
       "model_id": "d6f852b6441944be95bca1ecbae58994"
      }
     },
     "metadata": {},
     "output_type": "display_data"
    },
    {
     "name": "stdout",
     "output_type": "stream",
     "text": [
      "Node 1: Step 0 - Alignment on train = 0.041\n"
     ]
    },
    {
     "data": {
      "text/plain": "  0%|          | 0/1000 [00:00<?, ?it/s]",
      "application/vnd.jupyter.widget-view+json": {
       "version_major": 2,
       "version_minor": 0,
       "model_id": "77b54c31d2d44769859062a842623584"
      }
     },
     "metadata": {},
     "output_type": "display_data"
    },
    {
     "name": "stdout",
     "output_type": "stream",
     "text": [
      "Node 4: Step 50 - Alignment on train = 0.025\n",
      "Node 2: Step 50 - Alignment on train = 0.053\n",
      "Node 3: Step 50 - Alignment on train = 0.062\n",
      "Node 1: Step 50 - Alignment on train = 0.032\n",
      "Node 4: Step 100 - Alignment on train = 0.034\n",
      "Node 2: Step 100 - Alignment on train = 0.073\n",
      "Node 3: Step 100 - Alignment on train = 0.071\n",
      "Node 1: Step 100 - Alignment on train = 0.040\n",
      "Node 2: Step 150 - Alignment on train = 0.093\n",
      "Node 4: Step 150 - Alignment on train = 0.042\n",
      "Node 3: Step 150 - Alignment on train = 0.081\n",
      "Node 1: Step 150 - Alignment on train = 0.048\n",
      "Node 4: Step 200 - Alignment on train = 0.049\n",
      "Node 2: Step 200 - Alignment on train = 0.112\n",
      "Node 3: Step 200 - Alignment on train = 0.089\n",
      "Node 1: Step 200 - Alignment on train = 0.056\n",
      "Node 4: Step 250 - Alignment on train = 0.055\n",
      "Node 2: Step 250 - Alignment on train = 0.131\n",
      "Node 3: Step 250 - Alignment on train = 0.096\n",
      "Node 1: Step 250 - Alignment on train = 0.065\n",
      "Node 4: Step 300 - Alignment on train = 0.060\n",
      "Node 2: Step 300 - Alignment on train = 0.150\n",
      "Node 3: Step 300 - Alignment on train = 0.102\n",
      "Node 1: Step 300 - Alignment on train = 0.071\n",
      "Node 2: Step 350 - Alignment on train = 0.164\n",
      "Node 4: Step 350 - Alignment on train = 0.062\n",
      "Node 3: Step 350 - Alignment on train = 0.106\n",
      "Node 1: Step 350 - Alignment on train = 0.079\n",
      "Node 2: Step 400 - Alignment on train = 0.181\n",
      "Node 4: Step 400 - Alignment on train = 0.065\n",
      "Node 3: Step 400 - Alignment on train = 0.110\n",
      "Node 1: Step 400 - Alignment on train = 0.087\n",
      "Node 2: Step 450 - Alignment on train = 0.194\n",
      "Node 4: Step 450 - Alignment on train = 0.067\n",
      "Node 3: Step 450 - Alignment on train = 0.114\n",
      "Node 1: Step 450 - Alignment on train = 0.095\n",
      "Node 2: Step 500 - Alignment on train = 0.208\n",
      "Node 4: Step 500 - Alignment on train = 0.070\n",
      "Node 3: Step 500 - Alignment on train = 0.119\n",
      "Node 1: Step 500 - Alignment on train = 0.103\n",
      "Node 4: Step 550 - Alignment on train = 0.072\n",
      "Node 2: Step 550 - Alignment on train = 0.222\n",
      "Node 3: Step 550 - Alignment on train = 0.125\n",
      "Node 1: Step 550 - Alignment on train = 0.115\n",
      "Node 4: Step 600 - Alignment on train = 0.074\n",
      "Node 2: Step 600 - Alignment on train = 0.236\n",
      "Node 3: Step 600 - Alignment on train = 0.132\n",
      "Node 1: Step 600 - Alignment on train = 0.127\n",
      "Node 4: Step 650 - Alignment on train = 0.077\n",
      "Node 2: Step 650 - Alignment on train = 0.249\n",
      "Node 3: Step 650 - Alignment on train = 0.140\n",
      "Node 1: Step 650 - Alignment on train = 0.140\n",
      "Node 2: Step 700 - Alignment on train = 0.263\n",
      "Node 4: Step 700 - Alignment on train = 0.079\n",
      "Node 3: Step 700 - Alignment on train = 0.149\n",
      "Node 1: Step 700 - Alignment on train = 0.157\n",
      "Node 4: Step 750 - Alignment on train = 0.082\n",
      "Node 2: Step 750 - Alignment on train = 0.279\n",
      "Node 3: Step 750 - Alignment on train = 0.155\n",
      "Node 1: Step 750 - Alignment on train = 0.170\n",
      "Node 4: Step 800 - Alignment on train = 0.085\n",
      "Node 2: Step 800 - Alignment on train = 0.291\n",
      "Node 3: Step 800 - Alignment on train = 0.166\n",
      "Node 1: Step 800 - Alignment on train = 0.186\n",
      "Node 4: Step 850 - Alignment on train = 0.088\n",
      "Node 2: Step 850 - Alignment on train = 0.302\n",
      "Node 3: Step 850 - Alignment on train = 0.178\n",
      "Node 1: Step 850 - Alignment on train = 0.203\n",
      "Node 4: Step 900 - Alignment on train = 0.093\n",
      "Node 2: Step 900 - Alignment on train = 0.319\n",
      "Node 3: Step 900 - Alignment on train = 0.185\n",
      "Node 1: Step 900 - Alignment on train = 0.216\n",
      "Node 2: Step 950 - Alignment on train = 0.329\n",
      "Node 4: Step 950 - Alignment on train = 0.098\n",
      "Node 3: Step 950 - Alignment on train = 0.195\n",
      "Node 1: Step 950 - Alignment on train = 0.227\n",
      "Node 4: Step 1000 - Alignment on train = 0.103\n",
      "Node 2: Step 1000 - Alignment on train = 0.342\n",
      "Node 3: Step 1000 - Alignment on train = 0.203\n",
      "Node 1: Step 1000 - Alignment on train = 0.239\n",
      "Done!\n"
     ]
    }
   ],
   "source": [
    "nps = list()\n",
    "for i in range(node_num):\n",
    "    nps.append(multiprocessing.Process(target=node_train, args=(i+1, par_l[i], r[i+1], r[0], c[i],)))\n",
    "for i in range(node_num):\n",
    "    nps[i].start()\n",
    "for i in range(node_num):\n",
    "    nps[i].join()\n",
    "print('Done!')"
   ],
   "metadata": {
    "collapsed": false,
    "pycharm": {
     "name": "#%%\n"
    }
   }
  },
  {
   "cell_type": "code",
   "execution_count": 19,
   "outputs": [
    {
     "name": "stdout",
     "output_type": "stream",
     "text": [
      "[[[3.9811523  4.57723512 4.56643105 1.1697718  2.24865974]\n",
      "  [0.72926019 3.64179907 2.52000371 2.03517818 3.71466125]]\n",
      "\n",
      " [[5.16532747 2.63910809 3.34397418 2.87233567 4.60463734]\n",
      "  [3.5407136  2.3094269  3.31809153 2.62286875 2.33873423]]\n",
      "\n",
      " [[3.91837632 4.8719596  1.16325659 2.17120164 4.03723977]\n",
      "  [1.56744838 3.18139103 4.81356193 3.13968605 1.77585158]]\n",
      "\n",
      " [[3.94849878 4.54166998 2.7481309  2.760506   3.27002576]\n",
      "  [2.77714694 1.25812492 2.59177642 3.94884562 2.7349921 ]]\n",
      "\n",
      " [[1.50024837 2.16956916 3.48364033 1.90767469 3.89141488]\n",
      "  [1.54235357 2.41017577 1.75542864 2.03153227 1.8490252 ]]\n",
      "\n",
      " [[0.79211452 2.14735249 4.83865795 0.66891999 4.8006541 ]\n",
      "  [2.28551137 1.45100317 5.02510038 0.4007906  4.95393919]]\n",
      "\n",
      " [[4.62631165 3.23626323 3.53855833 3.42392801 2.49004197]\n",
      "  [4.48155035 2.89405902 2.7031005  3.53039012 4.89171538]]\n",
      "\n",
      " [[3.43473369 5.14392209 4.08615747 5.18778336 1.8906546 ]\n",
      "  [3.23799091 2.87351887 1.96522362 1.59912268 4.35052424]]]\n",
      "[[[3.98244688 4.57456739 4.56444674 1.18049938 2.24946776]\n",
      "  [0.72695804 3.64074472 2.52267376 2.03849928 3.71589018]]\n",
      "\n",
      " [[5.1718719  2.64378375 3.33196001 2.8698892  4.60934017]\n",
      "  [3.54048791 2.30024766 3.32232829 2.62771808 2.33848903]]\n",
      "\n",
      " [[3.92338824 4.87531046 1.16036103 2.17306479 4.03717689]\n",
      "  [1.56865127 3.18735863 4.81573559 3.13796376 1.77679411]]\n",
      "\n",
      " [[3.94866811 4.54063074 2.75108257 2.76409621 3.26394997]\n",
      "  [2.7783996  1.26032174 2.59434775 3.94622583 2.7355531 ]]\n",
      "\n",
      " [[1.4950065  2.17780188 3.49150614 1.90575187 3.88773183]\n",
      "  [1.54032335 2.41112358 1.75177712 2.03122587 1.84659886]]\n",
      "\n",
      " [[0.79403049 2.14569456 4.8372732  0.66934447 4.80550404]\n",
      "  [2.28472685 1.45773142 5.0272369  0.40205288 4.95703381]]\n",
      "\n",
      " [[4.62510994 3.23565408 3.53743703 3.42265514 2.4939165 ]\n",
      "  [4.48023702 2.89289919 2.70236906 3.53022548 4.89239068]]\n",
      "\n",
      " [[3.43473369 5.14392209 4.08615747 5.18778336 1.8906546 ]\n",
      "  [3.23799091 2.87351887 1.96522362 1.59912268 4.35052424]]]\n",
      "[[[3.97971865 4.57155102 4.56389868 1.16593341 2.24391569]\n",
      "  [0.72817276 3.64028937 2.52037685 2.03433975 3.71540932]]\n",
      "\n",
      " [[5.16530453 2.64615096 3.34787628 2.87366936 4.60692685]\n",
      "  [3.54074616 2.3094902  3.32033925 2.62394626 2.33900873]]\n",
      "\n",
      " [[3.92105053 4.87168007 1.16326498 2.17045761 4.03887734]\n",
      "  [1.56687422 3.18026232 4.81008915 3.13844717 1.77787679]]\n",
      "\n",
      " [[3.95034425 4.54256652 2.74713934 2.76181225 3.26976002]\n",
      "  [2.77879345 1.26289841 2.59437136 3.95094855 2.73653164]]\n",
      "\n",
      " [[1.50205715 2.16803848 3.48797159 1.90857471 3.89174791]\n",
      "  [1.54168929 2.41081022 1.75445294 2.03015677 1.84737988]]\n",
      "\n",
      " [[0.7915935  2.14684027 4.83714739 0.67136387 4.79849418]\n",
      "  [2.2863827  1.45197822 5.02660148 0.40127347 4.95483069]]\n",
      "\n",
      " [[4.62703464 3.23789496 3.53846892 3.42394599 2.48997775]\n",
      "  [4.48095181 2.89450906 2.70284109 3.53062785 4.89000072]]\n",
      "\n",
      " [[3.43473369 5.14392209 4.08615747 5.18778336 1.8906546 ]\n",
      "  [3.23799091 2.87351887 1.96522362 1.59912268 4.35052424]]]\n",
      "[[[3.98242585 4.5703171  4.55929916 1.17656602 2.24632286]\n",
      "  [0.72783319 3.63921513 2.52162669 2.03485293 3.71949123]]\n",
      "\n",
      " [[5.17160628 2.64420948 3.34614379 2.8738123  4.60668416]\n",
      "  [3.54074145 2.30645777 3.32196466 2.62560002 2.34248226]]\n",
      "\n",
      " [[3.923277   4.87011436 1.16087077 2.17135373 4.03552204]\n",
      "  [1.56685246 3.17848518 4.8061354  3.1334964  1.77760657]]\n",
      "\n",
      " [[3.94936202 4.53793692 2.74616869 2.75477958 3.26122895]\n",
      "  [2.7781888  1.26643316 2.59555996 3.94810219 2.73387741]]\n",
      "\n",
      " [[1.49689029 2.1728396  3.49407294 1.90646678 3.89010115]\n",
      "  [1.5433828  2.41181275 1.75367459 2.02934828 1.84765245]]\n",
      "\n",
      " [[0.79089001 2.14679127 4.83783211 0.66888633 4.79984947]\n",
      "  [2.28668551 1.45325187 5.02693094 0.40317448 4.95598527]]\n",
      "\n",
      " [[4.62566086 3.23362075 3.53881468 3.42282546 2.49120481]\n",
      "  [4.48063938 2.89353768 2.70264267 3.531118   4.89140052]]\n",
      "\n",
      " [[3.43473369 5.14392209 4.08615747 5.18778336 1.8906546 ]\n",
      "  [3.23799091 2.87351887 1.96522362 1.59912268 4.35052424]]]\n"
     ]
    }
   ],
   "source": [
    "par_l = list()\n",
    "for i in range(node_num):\n",
    "    with open('p_r'+str(i+1)+'_tra_d_0.2.pickle', 'rb') as f:\n",
    "        par_l.append(load(f))\n",
    "for i in range(node_num):\n",
    "    print(par_l[i])"
   ],
   "metadata": {
    "collapsed": false,
    "pycharm": {
     "name": "#%%\n"
    }
   }
  },
  {
   "cell_type": "code",
   "execution_count": 20,
   "outputs": [
    {
     "name": "stdout",
     "output_type": "stream",
     "text": [
      "with kernel training accuracy on test 0.6833333333333333\n"
     ]
    },
    {
     "ename": "KeyboardInterrupt",
     "evalue": "",
     "output_type": "error",
     "traceback": [
      "\u001B[0;31m---------------------------------------------------------------------------\u001B[0m",
      "\u001B[0;31mKeyboardInterrupt\u001B[0m                         Traceback (most recent call last)",
      "Cell \u001B[0;32mIn[20], line 29\u001B[0m\n\u001B[1;32m     27\u001B[0m X_grid \u001B[38;5;241m=\u001B[39m [np\u001B[38;5;241m.\u001B[39marray([x, y]) \u001B[38;5;28;01mfor\u001B[39;00m x, y \u001B[38;5;129;01min\u001B[39;00m \u001B[38;5;28mzip\u001B[39m(xx\u001B[38;5;241m.\u001B[39mflatten(), yy\u001B[38;5;241m.\u001B[39mflatten())]\n\u001B[1;32m     28\u001B[0m start \u001B[38;5;241m=\u001B[39m time\u001B[38;5;241m.\u001B[39mtime()\n\u001B[0;32m---> 29\u001B[0m prediction_r \u001B[38;5;241m=\u001B[39m \u001B[43msvm_trained_kernel\u001B[49m\u001B[38;5;241;43m.\u001B[39;49m\u001B[43mdecision_function\u001B[49m\u001B[43m(\u001B[49m\u001B[43mX_grid\u001B[49m\u001B[43m)\u001B[49m\n\u001B[1;32m     30\u001B[0m end \u001B[38;5;241m=\u001B[39m time\u001B[38;5;241m.\u001B[39mtime()\n\u001B[1;32m     31\u001B[0m \u001B[38;5;28mprint\u001B[39m (\u001B[38;5;28mstr\u001B[39m(end\u001B[38;5;241m-\u001B[39mstart))\n",
      "File \u001B[0;32m~/anaconda3/envs/pennylane/lib/python3.10/site-packages/sklearn/svm/_base.py:783\u001B[0m, in \u001B[0;36mBaseSVC.decision_function\u001B[0;34m(self, X)\u001B[0m\n\u001B[1;32m    756\u001B[0m \u001B[38;5;28;01mdef\u001B[39;00m \u001B[38;5;21mdecision_function\u001B[39m(\u001B[38;5;28mself\u001B[39m, X):\n\u001B[1;32m    757\u001B[0m \u001B[38;5;250m    \u001B[39m\u001B[38;5;124;03m\"\"\"Evaluate the decision function for the samples in X.\u001B[39;00m\n\u001B[1;32m    758\u001B[0m \n\u001B[1;32m    759\u001B[0m \u001B[38;5;124;03m    Parameters\u001B[39;00m\n\u001B[0;32m   (...)\u001B[0m\n\u001B[1;32m    781\u001B[0m \u001B[38;5;124;03m    transformation of ovo decision function.\u001B[39;00m\n\u001B[1;32m    782\u001B[0m \u001B[38;5;124;03m    \"\"\"\u001B[39;00m\n\u001B[0;32m--> 783\u001B[0m     dec \u001B[38;5;241m=\u001B[39m \u001B[38;5;28;43mself\u001B[39;49m\u001B[38;5;241;43m.\u001B[39;49m\u001B[43m_decision_function\u001B[49m\u001B[43m(\u001B[49m\u001B[43mX\u001B[49m\u001B[43m)\u001B[49m\n\u001B[1;32m    784\u001B[0m     \u001B[38;5;28;01mif\u001B[39;00m \u001B[38;5;28mself\u001B[39m\u001B[38;5;241m.\u001B[39mdecision_function_shape \u001B[38;5;241m==\u001B[39m \u001B[38;5;124m\"\u001B[39m\u001B[38;5;124movr\u001B[39m\u001B[38;5;124m\"\u001B[39m \u001B[38;5;129;01mand\u001B[39;00m \u001B[38;5;28mlen\u001B[39m(\u001B[38;5;28mself\u001B[39m\u001B[38;5;241m.\u001B[39mclasses_) \u001B[38;5;241m>\u001B[39m \u001B[38;5;241m2\u001B[39m:\n\u001B[1;32m    785\u001B[0m         \u001B[38;5;28;01mreturn\u001B[39;00m _ovr_decision_function(dec \u001B[38;5;241m<\u001B[39m \u001B[38;5;241m0\u001B[39m, \u001B[38;5;241m-\u001B[39mdec, \u001B[38;5;28mlen\u001B[39m(\u001B[38;5;28mself\u001B[39m\u001B[38;5;241m.\u001B[39mclasses_))\n",
      "File \u001B[0;32m~/anaconda3/envs/pennylane/lib/python3.10/site-packages/sklearn/svm/_base.py:533\u001B[0m, in \u001B[0;36mBaseLibSVM._decision_function\u001B[0;34m(self, X)\u001B[0m\n\u001B[1;32m    530\u001B[0m \u001B[38;5;66;03m# NOTE: _validate_for_predict contains check for is_fitted\u001B[39;00m\n\u001B[1;32m    531\u001B[0m \u001B[38;5;66;03m# hence must be placed before any other attributes are used.\u001B[39;00m\n\u001B[1;32m    532\u001B[0m X \u001B[38;5;241m=\u001B[39m \u001B[38;5;28mself\u001B[39m\u001B[38;5;241m.\u001B[39m_validate_for_predict(X)\n\u001B[0;32m--> 533\u001B[0m X \u001B[38;5;241m=\u001B[39m \u001B[38;5;28;43mself\u001B[39;49m\u001B[38;5;241;43m.\u001B[39;49m\u001B[43m_compute_kernel\u001B[49m\u001B[43m(\u001B[49m\u001B[43mX\u001B[49m\u001B[43m)\u001B[49m\n\u001B[1;32m    535\u001B[0m \u001B[38;5;28;01mif\u001B[39;00m \u001B[38;5;28mself\u001B[39m\u001B[38;5;241m.\u001B[39m_sparse:\n\u001B[1;32m    536\u001B[0m     dec_func \u001B[38;5;241m=\u001B[39m \u001B[38;5;28mself\u001B[39m\u001B[38;5;241m.\u001B[39m_sparse_decision_function(X)\n",
      "File \u001B[0;32m~/anaconda3/envs/pennylane/lib/python3.10/site-packages/sklearn/svm/_base.py:511\u001B[0m, in \u001B[0;36mBaseLibSVM._compute_kernel\u001B[0;34m(self, X)\u001B[0m\n\u001B[1;32m    507\u001B[0m \u001B[38;5;250m\u001B[39m\u001B[38;5;124;03m\"\"\"Return the data transformed by a callable kernel\"\"\"\u001B[39;00m\n\u001B[1;32m    508\u001B[0m \u001B[38;5;28;01mif\u001B[39;00m \u001B[38;5;28mcallable\u001B[39m(\u001B[38;5;28mself\u001B[39m\u001B[38;5;241m.\u001B[39mkernel):\n\u001B[1;32m    509\u001B[0m     \u001B[38;5;66;03m# in the case of precomputed kernel given as a function, we\u001B[39;00m\n\u001B[1;32m    510\u001B[0m     \u001B[38;5;66;03m# have to compute explicitly the kernel matrix\u001B[39;00m\n\u001B[0;32m--> 511\u001B[0m     kernel \u001B[38;5;241m=\u001B[39m \u001B[38;5;28;43mself\u001B[39;49m\u001B[38;5;241;43m.\u001B[39;49m\u001B[43mkernel\u001B[49m\u001B[43m(\u001B[49m\u001B[43mX\u001B[49m\u001B[43m,\u001B[49m\u001B[43m \u001B[49m\u001B[38;5;28;43mself\u001B[39;49m\u001B[38;5;241;43m.\u001B[39;49m\u001B[43m__Xfit\u001B[49m\u001B[43m)\u001B[49m\n\u001B[1;32m    512\u001B[0m     \u001B[38;5;28;01mif\u001B[39;00m sp\u001B[38;5;241m.\u001B[39missparse(kernel):\n\u001B[1;32m    513\u001B[0m         kernel \u001B[38;5;241m=\u001B[39m kernel\u001B[38;5;241m.\u001B[39mtoarray()\n",
      "Cell \u001B[0;32mIn[20], line 16\u001B[0m, in \u001B[0;36m<lambda>\u001B[0;34m(X1, X2)\u001B[0m\n\u001B[1;32m     14\u001B[0m \u001B[38;5;66;03m## fit the SVM on the train set\u001B[39;00m\n\u001B[1;32m     15\u001B[0m mapped_kernel \u001B[38;5;241m=\u001B[39m \u001B[38;5;28;01mlambda\u001B[39;00m X1, X2: kernel(X1, X2, trained_params)\n\u001B[0;32m---> 16\u001B[0m mapped_kernel_matrix \u001B[38;5;241m=\u001B[39m \u001B[38;5;28;01mlambda\u001B[39;00m X1, X2: \u001B[43mqml\u001B[49m\u001B[38;5;241;43m.\u001B[39;49m\u001B[43mkernels\u001B[49m\u001B[38;5;241;43m.\u001B[39;49m\u001B[43mkernel_matrix\u001B[49m\u001B[43m(\u001B[49m\u001B[43mX1\u001B[49m\u001B[43m,\u001B[49m\u001B[43m \u001B[49m\u001B[43mX2\u001B[49m\u001B[43m,\u001B[49m\u001B[43m \u001B[49m\u001B[43mmapped_kernel\u001B[49m\u001B[43m)\u001B[49m\n\u001B[1;32m     17\u001B[0m svm_trained_kernel \u001B[38;5;241m=\u001B[39m SVC(kernel\u001B[38;5;241m=\u001B[39mmapped_kernel_matrix)\u001B[38;5;241m.\u001B[39mfit(X_train, y_train)\n\u001B[1;32m     18\u001B[0m \u001B[38;5;66;03m## evaluate the accuracy on the test set\u001B[39;00m\n",
      "File \u001B[0;32m~/anaconda3/envs/pennylane/lib/python3.10/site-packages/pennylane/kernels/utils.py:132\u001B[0m, in \u001B[0;36mkernel_matrix\u001B[0;34m(X1, X2, kernel)\u001B[0m\n\u001B[1;32m    129\u001B[0m N \u001B[38;5;241m=\u001B[39m qml\u001B[38;5;241m.\u001B[39mmath\u001B[38;5;241m.\u001B[39mshape(X1)[\u001B[38;5;241m0\u001B[39m]\n\u001B[1;32m    130\u001B[0m M \u001B[38;5;241m=\u001B[39m qml\u001B[38;5;241m.\u001B[39mmath\u001B[38;5;241m.\u001B[39mshape(X2)[\u001B[38;5;241m0\u001B[39m]\n\u001B[0;32m--> 132\u001B[0m matrix \u001B[38;5;241m=\u001B[39m qml\u001B[38;5;241m.\u001B[39mmath\u001B[38;5;241m.\u001B[39mstack([kernel(x, y) \u001B[38;5;28;01mfor\u001B[39;00m x, y \u001B[38;5;129;01min\u001B[39;00m product(X1, X2)])\n\u001B[1;32m    134\u001B[0m \u001B[38;5;28;01mif\u001B[39;00m qml\u001B[38;5;241m.\u001B[39mmath\u001B[38;5;241m.\u001B[39mndim(matrix[\u001B[38;5;241m0\u001B[39m]) \u001B[38;5;241m==\u001B[39m \u001B[38;5;241m0\u001B[39m:\n\u001B[1;32m    135\u001B[0m     \u001B[38;5;28;01mreturn\u001B[39;00m qml\u001B[38;5;241m.\u001B[39mmath\u001B[38;5;241m.\u001B[39mreshape(matrix, (N, M))\n",
      "File \u001B[0;32m~/anaconda3/envs/pennylane/lib/python3.10/site-packages/pennylane/kernels/utils.py:132\u001B[0m, in \u001B[0;36m<listcomp>\u001B[0;34m(.0)\u001B[0m\n\u001B[1;32m    129\u001B[0m N \u001B[38;5;241m=\u001B[39m qml\u001B[38;5;241m.\u001B[39mmath\u001B[38;5;241m.\u001B[39mshape(X1)[\u001B[38;5;241m0\u001B[39m]\n\u001B[1;32m    130\u001B[0m M \u001B[38;5;241m=\u001B[39m qml\u001B[38;5;241m.\u001B[39mmath\u001B[38;5;241m.\u001B[39mshape(X2)[\u001B[38;5;241m0\u001B[39m]\n\u001B[0;32m--> 132\u001B[0m matrix \u001B[38;5;241m=\u001B[39m qml\u001B[38;5;241m.\u001B[39mmath\u001B[38;5;241m.\u001B[39mstack([\u001B[43mkernel\u001B[49m\u001B[43m(\u001B[49m\u001B[43mx\u001B[49m\u001B[43m,\u001B[49m\u001B[43m \u001B[49m\u001B[43my\u001B[49m\u001B[43m)\u001B[49m \u001B[38;5;28;01mfor\u001B[39;00m x, y \u001B[38;5;129;01min\u001B[39;00m product(X1, X2)])\n\u001B[1;32m    134\u001B[0m \u001B[38;5;28;01mif\u001B[39;00m qml\u001B[38;5;241m.\u001B[39mmath\u001B[38;5;241m.\u001B[39mndim(matrix[\u001B[38;5;241m0\u001B[39m]) \u001B[38;5;241m==\u001B[39m \u001B[38;5;241m0\u001B[39m:\n\u001B[1;32m    135\u001B[0m     \u001B[38;5;28;01mreturn\u001B[39;00m qml\u001B[38;5;241m.\u001B[39mmath\u001B[38;5;241m.\u001B[39mreshape(matrix, (N, M))\n",
      "Cell \u001B[0;32mIn[20], line 15\u001B[0m, in \u001B[0;36m<lambda>\u001B[0;34m(X1, X2)\u001B[0m\n\u001B[1;32m     12\u001B[0m     \u001B[38;5;28;01mreturn\u001B[39;00m qml\u001B[38;5;241m.\u001B[39mexpval(qml\u001B[38;5;241m.\u001B[39mProjector([\u001B[38;5;241m0\u001B[39m]\u001B[38;5;241m*\u001B[39mnum_wires, wires\u001B[38;5;241m=\u001B[39mwires))\n\u001B[1;32m     14\u001B[0m \u001B[38;5;66;03m## fit the SVM on the train set\u001B[39;00m\n\u001B[0;32m---> 15\u001B[0m mapped_kernel \u001B[38;5;241m=\u001B[39m \u001B[38;5;28;01mlambda\u001B[39;00m X1, X2: \u001B[43mkernel\u001B[49m\u001B[43m(\u001B[49m\u001B[43mX1\u001B[49m\u001B[43m,\u001B[49m\u001B[43m \u001B[49m\u001B[43mX2\u001B[49m\u001B[43m,\u001B[49m\u001B[43m \u001B[49m\u001B[43mtrained_params\u001B[49m\u001B[43m)\u001B[49m\n\u001B[1;32m     16\u001B[0m mapped_kernel_matrix \u001B[38;5;241m=\u001B[39m \u001B[38;5;28;01mlambda\u001B[39;00m X1, X2: qml\u001B[38;5;241m.\u001B[39mkernels\u001B[38;5;241m.\u001B[39mkernel_matrix(X1, X2, mapped_kernel)\n\u001B[1;32m     17\u001B[0m svm_trained_kernel \u001B[38;5;241m=\u001B[39m SVC(kernel\u001B[38;5;241m=\u001B[39mmapped_kernel_matrix)\u001B[38;5;241m.\u001B[39mfit(X_train, y_train)\n",
      "File \u001B[0;32m~/anaconda3/envs/pennylane/lib/python3.10/site-packages/pennylane/qnode.py:1027\u001B[0m, in \u001B[0;36mQNode.__call__\u001B[0;34m(self, *args, **kwargs)\u001B[0m\n\u001B[1;32m   1022\u001B[0m         full_transform_program\u001B[38;5;241m.\u001B[39m_set_all_argnums(\n\u001B[1;32m   1023\u001B[0m             \u001B[38;5;28mself\u001B[39m, args, kwargs, argnums\n\u001B[1;32m   1024\u001B[0m         )  \u001B[38;5;66;03m# pylint: disable=protected-access\u001B[39;00m\n\u001B[1;32m   1026\u001B[0m \u001B[38;5;66;03m# pylint: disable=unexpected-keyword-arg\u001B[39;00m\n\u001B[0;32m-> 1027\u001B[0m res \u001B[38;5;241m=\u001B[39m \u001B[43mqml\u001B[49m\u001B[38;5;241;43m.\u001B[39;49m\u001B[43mexecute\u001B[49m\u001B[43m(\u001B[49m\n\u001B[1;32m   1028\u001B[0m \u001B[43m    \u001B[49m\u001B[43m(\u001B[49m\u001B[38;5;28;43mself\u001B[39;49m\u001B[38;5;241;43m.\u001B[39;49m\u001B[43m_tape\u001B[49m\u001B[43m,\u001B[49m\u001B[43m)\u001B[49m\u001B[43m,\u001B[49m\n\u001B[1;32m   1029\u001B[0m \u001B[43m    \u001B[49m\u001B[43mdevice\u001B[49m\u001B[38;5;241;43m=\u001B[39;49m\u001B[38;5;28;43mself\u001B[39;49m\u001B[38;5;241;43m.\u001B[39;49m\u001B[43mdevice\u001B[49m\u001B[43m,\u001B[49m\n\u001B[1;32m   1030\u001B[0m \u001B[43m    \u001B[49m\u001B[43mgradient_fn\u001B[49m\u001B[38;5;241;43m=\u001B[39;49m\u001B[38;5;28;43mself\u001B[39;49m\u001B[38;5;241;43m.\u001B[39;49m\u001B[43mgradient_fn\u001B[49m\u001B[43m,\u001B[49m\n\u001B[1;32m   1031\u001B[0m \u001B[43m    \u001B[49m\u001B[43minterface\u001B[49m\u001B[38;5;241;43m=\u001B[39;49m\u001B[38;5;28;43mself\u001B[39;49m\u001B[38;5;241;43m.\u001B[39;49m\u001B[43minterface\u001B[49m\u001B[43m,\u001B[49m\n\u001B[1;32m   1032\u001B[0m \u001B[43m    \u001B[49m\u001B[43mtransform_program\u001B[49m\u001B[38;5;241;43m=\u001B[39;49m\u001B[43mfull_transform_program\u001B[49m\u001B[43m,\u001B[49m\n\u001B[1;32m   1033\u001B[0m \u001B[43m    \u001B[49m\u001B[43mconfig\u001B[49m\u001B[38;5;241;43m=\u001B[39;49m\u001B[43mconfig\u001B[49m\u001B[43m,\u001B[49m\n\u001B[1;32m   1034\u001B[0m \u001B[43m    \u001B[49m\u001B[43mgradient_kwargs\u001B[49m\u001B[38;5;241;43m=\u001B[39;49m\u001B[38;5;28;43mself\u001B[39;49m\u001B[38;5;241;43m.\u001B[39;49m\u001B[43mgradient_kwargs\u001B[49m\u001B[43m,\u001B[49m\n\u001B[1;32m   1035\u001B[0m \u001B[43m    \u001B[49m\u001B[43moverride_shots\u001B[49m\u001B[38;5;241;43m=\u001B[39;49m\u001B[43moverride_shots\u001B[49m\u001B[43m,\u001B[49m\n\u001B[1;32m   1036\u001B[0m \u001B[43m    \u001B[49m\u001B[38;5;241;43m*\u001B[39;49m\u001B[38;5;241;43m*\u001B[39;49m\u001B[38;5;28;43mself\u001B[39;49m\u001B[38;5;241;43m.\u001B[39;49m\u001B[43mexecute_kwargs\u001B[49m\u001B[43m,\u001B[49m\n\u001B[1;32m   1037\u001B[0m \u001B[43m\u001B[49m\u001B[43m)\u001B[49m\n\u001B[1;32m   1039\u001B[0m res \u001B[38;5;241m=\u001B[39m res[\u001B[38;5;241m0\u001B[39m]\n\u001B[1;32m   1041\u001B[0m \u001B[38;5;66;03m# convert result to the interface in case the qfunc has no parameters\u001B[39;00m\n",
      "File \u001B[0;32m~/anaconda3/envs/pennylane/lib/python3.10/site-packages/pennylane/interfaces/execution.py:736\u001B[0m, in \u001B[0;36mexecute\u001B[0;34m(tapes, device, gradient_fn, interface, transform_program, config, grad_on_execution, gradient_kwargs, cache, cachesize, max_diff, override_shots, expand_fn, max_expansion, device_batch_transform)\u001B[0m\n\u001B[1;32m    733\u001B[0m     \u001B[38;5;28;01mraise\u001B[39;00m \u001B[38;5;167;01mValueError\u001B[39;00m(\u001B[38;5;124m\"\u001B[39m\u001B[38;5;124mGradient transforms cannot be used with grad_on_execution=True\u001B[39m\u001B[38;5;124m\"\u001B[39m)\n\u001B[1;32m    735\u001B[0m ml_boundary_execute \u001B[38;5;241m=\u001B[39m _get_ml_boundary_execute(interface, _grad_on_execution)\n\u001B[0;32m--> 736\u001B[0m results \u001B[38;5;241m=\u001B[39m \u001B[43mml_boundary_execute\u001B[49m\u001B[43m(\u001B[49m\n\u001B[1;32m    737\u001B[0m \u001B[43m    \u001B[49m\u001B[43mtapes\u001B[49m\u001B[43m,\u001B[49m\u001B[43m \u001B[49m\u001B[43mdevice\u001B[49m\u001B[43m,\u001B[49m\u001B[43m \u001B[49m\u001B[43mexecute_fn\u001B[49m\u001B[43m,\u001B[49m\u001B[43m \u001B[49m\u001B[43mgradient_fn\u001B[49m\u001B[43m,\u001B[49m\u001B[43m \u001B[49m\u001B[43mgradient_kwargs\u001B[49m\u001B[43m,\u001B[49m\u001B[43m \u001B[49m\u001B[43m_n\u001B[49m\u001B[38;5;241;43m=\u001B[39;49m\u001B[38;5;241;43m1\u001B[39;49m\u001B[43m,\u001B[49m\u001B[43m \u001B[49m\u001B[43mmax_diff\u001B[49m\u001B[38;5;241;43m=\u001B[39;49m\u001B[43mmax_diff\u001B[49m\n\u001B[1;32m    738\u001B[0m \u001B[43m\u001B[49m\u001B[43m)\u001B[49m\n\u001B[1;32m    740\u001B[0m \u001B[38;5;28;01mreturn\u001B[39;00m post_processing(results)\n",
      "File \u001B[0;32m~/anaconda3/envs/pennylane/lib/python3.10/site-packages/pennylane/interfaces/autograd.py:69\u001B[0m, in \u001B[0;36mexecute\u001B[0;34m(tapes, device, execute_fn, gradient_fn, gradient_kwargs, _n, max_diff)\u001B[0m\n\u001B[1;32m     64\u001B[0m \u001B[38;5;66;03m# pylint misidentifies autograd.builtins as a dict\u001B[39;00m\n\u001B[1;32m     65\u001B[0m \u001B[38;5;66;03m# pylint: disable=no-member\u001B[39;00m\n\u001B[1;32m     66\u001B[0m parameters \u001B[38;5;241m=\u001B[39m autograd\u001B[38;5;241m.\u001B[39mbuiltins\u001B[38;5;241m.\u001B[39mtuple(\n\u001B[1;32m     67\u001B[0m     [autograd\u001B[38;5;241m.\u001B[39mbuiltins\u001B[38;5;241m.\u001B[39mlist(t\u001B[38;5;241m.\u001B[39mget_parameters()) \u001B[38;5;28;01mfor\u001B[39;00m t \u001B[38;5;129;01min\u001B[39;00m tapes]\n\u001B[1;32m     68\u001B[0m )\n\u001B[0;32m---> 69\u001B[0m \u001B[38;5;28;01mreturn\u001B[39;00m \u001B[43m_execute\u001B[49m\u001B[43m(\u001B[49m\n\u001B[1;32m     70\u001B[0m \u001B[43m    \u001B[49m\u001B[43mparameters\u001B[49m\u001B[43m,\u001B[49m\n\u001B[1;32m     71\u001B[0m \u001B[43m    \u001B[49m\u001B[43mtapes\u001B[49m\u001B[38;5;241;43m=\u001B[39;49m\u001B[43mtapes\u001B[49m\u001B[43m,\u001B[49m\n\u001B[1;32m     72\u001B[0m \u001B[43m    \u001B[49m\u001B[43mdevice\u001B[49m\u001B[38;5;241;43m=\u001B[39;49m\u001B[43mdevice\u001B[49m\u001B[43m,\u001B[49m\n\u001B[1;32m     73\u001B[0m \u001B[43m    \u001B[49m\u001B[43mexecute_fn\u001B[49m\u001B[38;5;241;43m=\u001B[39;49m\u001B[43mexecute_fn\u001B[49m\u001B[43m,\u001B[49m\n\u001B[1;32m     74\u001B[0m \u001B[43m    \u001B[49m\u001B[43mgradient_fn\u001B[49m\u001B[38;5;241;43m=\u001B[39;49m\u001B[43mgradient_fn\u001B[49m\u001B[43m,\u001B[49m\n\u001B[1;32m     75\u001B[0m \u001B[43m    \u001B[49m\u001B[43mgradient_kwargs\u001B[49m\u001B[38;5;241;43m=\u001B[39;49m\u001B[43mgradient_kwargs\u001B[49m\u001B[43m,\u001B[49m\n\u001B[1;32m     76\u001B[0m \u001B[43m    \u001B[49m\u001B[43m_n\u001B[49m\u001B[38;5;241;43m=\u001B[39;49m\u001B[43m_n\u001B[49m\u001B[43m,\u001B[49m\n\u001B[1;32m     77\u001B[0m \u001B[43m    \u001B[49m\u001B[43mmax_diff\u001B[49m\u001B[38;5;241;43m=\u001B[39;49m\u001B[43mmax_diff\u001B[49m\u001B[43m,\u001B[49m\n\u001B[1;32m     78\u001B[0m \u001B[43m\u001B[49m\u001B[43m)\u001B[49m[\u001B[38;5;241m0\u001B[39m]\n",
      "File \u001B[0;32m~/anaconda3/envs/pennylane/lib/python3.10/site-packages/autograd/tracer.py:48\u001B[0m, in \u001B[0;36mprimitive.<locals>.f_wrapped\u001B[0;34m(*args, **kwargs)\u001B[0m\n\u001B[1;32m     46\u001B[0m     \u001B[38;5;28;01mreturn\u001B[39;00m new_box(ans, trace, node)\n\u001B[1;32m     47\u001B[0m \u001B[38;5;28;01melse\u001B[39;00m:\n\u001B[0;32m---> 48\u001B[0m     \u001B[38;5;28;01mreturn\u001B[39;00m \u001B[43mf_raw\u001B[49m\u001B[43m(\u001B[49m\u001B[38;5;241;43m*\u001B[39;49m\u001B[43margs\u001B[49m\u001B[43m,\u001B[49m\u001B[43m \u001B[49m\u001B[38;5;241;43m*\u001B[39;49m\u001B[38;5;241;43m*\u001B[39;49m\u001B[43mkwargs\u001B[49m\u001B[43m)\u001B[49m\n",
      "File \u001B[0;32m~/anaconda3/envs/pennylane/lib/python3.10/site-packages/pennylane/interfaces/autograd.py:130\u001B[0m, in \u001B[0;36m_execute\u001B[0;34m(parameters, tapes, device, execute_fn, gradient_fn, gradient_kwargs, _n, max_diff)\u001B[0m\n\u001B[1;32m    112\u001B[0m \u001B[38;5;28;01mif\u001B[39;00m logger\u001B[38;5;241m.\u001B[39misEnabledFor(logging\u001B[38;5;241m.\u001B[39mDEBUG):\n\u001B[1;32m    113\u001B[0m     logger\u001B[38;5;241m.\u001B[39mdebug(\n\u001B[1;32m    114\u001B[0m         \u001B[38;5;124m\"\u001B[39m\u001B[38;5;124mEntry with args=(parameters=\u001B[39m\u001B[38;5;132;01m%s\u001B[39;00m\u001B[38;5;124m, tapes=\u001B[39m\u001B[38;5;132;01m%s\u001B[39;00m\u001B[38;5;124m, device=\u001B[39m\u001B[38;5;132;01m%s\u001B[39;00m\u001B[38;5;124m, execute_fn=\u001B[39m\u001B[38;5;132;01m%s\u001B[39;00m\u001B[38;5;124m, gradient_fn=\u001B[39m\u001B[38;5;132;01m%s\u001B[39;00m\u001B[38;5;124m, gradient_kwargs=\u001B[39m\u001B[38;5;132;01m%s\u001B[39;00m\u001B[38;5;124m, _n=\u001B[39m\u001B[38;5;132;01m%s\u001B[39;00m\u001B[38;5;124m, max_diff=\u001B[39m\u001B[38;5;132;01m%s\u001B[39;00m\u001B[38;5;124m) called by=\u001B[39m\u001B[38;5;132;01m%s\u001B[39;00m\u001B[38;5;124m\"\u001B[39m,\n\u001B[1;32m    115\u001B[0m         parameters,\n\u001B[0;32m   (...)\u001B[0m\n\u001B[1;32m    127\u001B[0m         \u001B[38;5;124m\"\u001B[39m\u001B[38;5;124m::L\u001B[39m\u001B[38;5;124m\"\u001B[39m\u001B[38;5;241m.\u001B[39mjoin(\u001B[38;5;28mstr\u001B[39m(i) \u001B[38;5;28;01mfor\u001B[39;00m i \u001B[38;5;129;01min\u001B[39;00m inspect\u001B[38;5;241m.\u001B[39mgetouterframes(inspect\u001B[38;5;241m.\u001B[39mcurrentframe(), \u001B[38;5;241m2\u001B[39m)[\u001B[38;5;241m1\u001B[39m][\u001B[38;5;241m1\u001B[39m:\u001B[38;5;241m3\u001B[39m]),\n\u001B[1;32m    128\u001B[0m     )\n\u001B[0;32m--> 130\u001B[0m res, jacs \u001B[38;5;241m=\u001B[39m \u001B[43mexecute_fn\u001B[49m\u001B[43m(\u001B[49m\u001B[43mtapes\u001B[49m\u001B[43m,\u001B[49m\u001B[43m \u001B[49m\u001B[38;5;241;43m*\u001B[39;49m\u001B[38;5;241;43m*\u001B[39;49m\u001B[43mgradient_kwargs\u001B[49m\u001B[43m)\u001B[49m\n\u001B[1;32m    132\u001B[0m \u001B[38;5;28;01mreturn\u001B[39;00m res, jacs\n",
      "File \u001B[0;32m~/anaconda3/envs/pennylane/lib/python3.10/site-packages/pennylane/interfaces/execution.py:588\u001B[0m, in \u001B[0;36mexecute.<locals>.inner_execute_with_empty_jac\u001B[0;34m(tapes, **_)\u001B[0m\n\u001B[1;32m    587\u001B[0m \u001B[38;5;28;01mdef\u001B[39;00m \u001B[38;5;21minner_execute_with_empty_jac\u001B[39m(tapes, \u001B[38;5;241m*\u001B[39m\u001B[38;5;241m*\u001B[39m_):\n\u001B[0;32m--> 588\u001B[0m     \u001B[38;5;28;01mreturn\u001B[39;00m (\u001B[43minner_execute\u001B[49m\u001B[43m(\u001B[49m\u001B[43mtapes\u001B[49m\u001B[43m)\u001B[49m, [])\n",
      "File \u001B[0;32m~/anaconda3/envs/pennylane/lib/python3.10/site-packages/pennylane/interfaces/execution.py:246\u001B[0m, in \u001B[0;36m_make_inner_execute.<locals>.inner_execute\u001B[0;34m(tapes, **_)\u001B[0m\n\u001B[1;32m    237\u001B[0m \u001B[38;5;250m\u001B[39m\u001B[38;5;124;03m\"\"\"Execution that occurs within a machine learning framework boundary.\u001B[39;00m\n\u001B[1;32m    238\u001B[0m \n\u001B[1;32m    239\u001B[0m \u001B[38;5;124;03mClosure Variables:\u001B[39;00m\n\u001B[0;32m   (...)\u001B[0m\n\u001B[1;32m    243\u001B[0m \n\u001B[1;32m    244\u001B[0m \u001B[38;5;124;03m\"\"\"\u001B[39;00m\n\u001B[1;32m    245\u001B[0m \u001B[38;5;28;01mif\u001B[39;00m expand_fn:\n\u001B[0;32m--> 246\u001B[0m     tapes \u001B[38;5;241m=\u001B[39m \u001B[38;5;28;43mtuple\u001B[39;49m\u001B[43m(\u001B[49m\u001B[43mexpand_fn\u001B[49m\u001B[43m(\u001B[49m\u001B[43mt\u001B[49m\u001B[43m)\u001B[49m\u001B[43m \u001B[49m\u001B[38;5;28;43;01mfor\u001B[39;49;00m\u001B[43m \u001B[49m\u001B[43mt\u001B[49m\u001B[43m \u001B[49m\u001B[38;5;129;43;01min\u001B[39;49;00m\u001B[43m \u001B[49m\u001B[43mtapes\u001B[49m\u001B[43m)\u001B[49m\n\u001B[1;32m    247\u001B[0m \u001B[38;5;28;01mif\u001B[39;00m numpy_only:\n\u001B[1;32m    248\u001B[0m     tapes \u001B[38;5;241m=\u001B[39m \u001B[38;5;28mtuple\u001B[39m(qml\u001B[38;5;241m.\u001B[39mtransforms\u001B[38;5;241m.\u001B[39mconvert_to_numpy_parameters(t) \u001B[38;5;28;01mfor\u001B[39;00m t \u001B[38;5;129;01min\u001B[39;00m tapes)\n",
      "File \u001B[0;32m~/anaconda3/envs/pennylane/lib/python3.10/site-packages/pennylane/interfaces/execution.py:246\u001B[0m, in \u001B[0;36m<genexpr>\u001B[0;34m(.0)\u001B[0m\n\u001B[1;32m    237\u001B[0m \u001B[38;5;250m\u001B[39m\u001B[38;5;124;03m\"\"\"Execution that occurs within a machine learning framework boundary.\u001B[39;00m\n\u001B[1;32m    238\u001B[0m \n\u001B[1;32m    239\u001B[0m \u001B[38;5;124;03mClosure Variables:\u001B[39;00m\n\u001B[0;32m   (...)\u001B[0m\n\u001B[1;32m    243\u001B[0m \n\u001B[1;32m    244\u001B[0m \u001B[38;5;124;03m\"\"\"\u001B[39;00m\n\u001B[1;32m    245\u001B[0m \u001B[38;5;28;01mif\u001B[39;00m expand_fn:\n\u001B[0;32m--> 246\u001B[0m     tapes \u001B[38;5;241m=\u001B[39m \u001B[38;5;28mtuple\u001B[39m(\u001B[43mexpand_fn\u001B[49m\u001B[43m(\u001B[49m\u001B[43mt\u001B[49m\u001B[43m)\u001B[49m \u001B[38;5;28;01mfor\u001B[39;00m t \u001B[38;5;129;01min\u001B[39;00m tapes)\n\u001B[1;32m    247\u001B[0m \u001B[38;5;28;01mif\u001B[39;00m numpy_only:\n\u001B[1;32m    248\u001B[0m     tapes \u001B[38;5;241m=\u001B[39m \u001B[38;5;28mtuple\u001B[39m(qml\u001B[38;5;241m.\u001B[39mtransforms\u001B[38;5;241m.\u001B[39mconvert_to_numpy_parameters(t) \u001B[38;5;28;01mfor\u001B[39;00m t \u001B[38;5;129;01min\u001B[39;00m tapes)\n",
      "File \u001B[0;32m~/anaconda3/envs/pennylane/lib/python3.10/site-packages/pennylane/interfaces/execution.py:206\u001B[0m, in \u001B[0;36m_preprocess_expand_fn.<locals>.device_expansion_function\u001B[0;34m(tape)\u001B[0m\n\u001B[1;32m    204\u001B[0m \u001B[38;5;28;01mdef\u001B[39;00m \u001B[38;5;21mdevice_expansion_function\u001B[39m(tape):  \u001B[38;5;66;03m# pylint: disable=function-redefined\u001B[39;00m\n\u001B[1;32m    205\u001B[0m \u001B[38;5;250m    \u001B[39m\u001B[38;5;124;03m\"\"\"A wrapper around the device ``expand_fn``.\"\"\"\u001B[39;00m\n\u001B[0;32m--> 206\u001B[0m     \u001B[38;5;28;01mreturn\u001B[39;00m \u001B[43mdevice\u001B[49m\u001B[38;5;241;43m.\u001B[39;49m\u001B[43mexpand_fn\u001B[49m\u001B[43m(\u001B[49m\u001B[43mtape\u001B[49m\u001B[43m,\u001B[49m\u001B[43m \u001B[49m\u001B[43mmax_expansion\u001B[49m\u001B[38;5;241;43m=\u001B[39;49m\u001B[43mmax_expansion\u001B[49m\u001B[43m)\u001B[49m\n",
      "File \u001B[0;32m~/anaconda3/envs/pennylane/lib/python3.10/site-packages/pennylane/_device.py:718\u001B[0m, in \u001B[0;36mDevice.expand_fn\u001B[0;34m(self, circuit, max_expansion)\u001B[0m\n\u001B[1;32m    714\u001B[0m \u001B[38;5;28;01mif\u001B[39;00m \u001B[38;5;28mself\u001B[39m\u001B[38;5;241m.\u001B[39mcustom_expand_fn \u001B[38;5;129;01mis\u001B[39;00m \u001B[38;5;129;01mnot\u001B[39;00m \u001B[38;5;28;01mNone\u001B[39;00m:\n\u001B[1;32m    715\u001B[0m     \u001B[38;5;66;03m# pylint:disable=not-callable\u001B[39;00m\n\u001B[1;32m    716\u001B[0m     \u001B[38;5;28;01mreturn\u001B[39;00m \u001B[38;5;28mself\u001B[39m\u001B[38;5;241m.\u001B[39mcustom_expand_fn(circuit, max_expansion\u001B[38;5;241m=\u001B[39mmax_expansion)\n\u001B[0;32m--> 718\u001B[0m \u001B[38;5;28;01mreturn\u001B[39;00m \u001B[38;5;28;43mself\u001B[39;49m\u001B[38;5;241;43m.\u001B[39;49m\u001B[43mdefault_expand_fn\u001B[49m\u001B[43m(\u001B[49m\u001B[43mcircuit\u001B[49m\u001B[43m,\u001B[49m\u001B[43m \u001B[49m\u001B[43mmax_expansion\u001B[49m\u001B[38;5;241;43m=\u001B[39;49m\u001B[43mmax_expansion\u001B[49m\u001B[43m)\u001B[49m\n",
      "File \u001B[0;32m~/anaconda3/envs/pennylane/lib/python3.10/site-packages/pennylane/_device.py:689\u001B[0m, in \u001B[0;36mDevice.default_expand_fn\u001B[0;34m(self, circuit, max_expansion)\u001B[0m\n\u001B[1;32m    686\u001B[0m     circuit \u001B[38;5;241m=\u001B[39m circuit\u001B[38;5;241m.\u001B[39mexpand(depth\u001B[38;5;241m=\u001B[39mmax_expansion, stop_at\u001B[38;5;241m=\u001B[39m\u001B[38;5;28mself\u001B[39m\u001B[38;5;241m.\u001B[39mstopping_condition)\n\u001B[1;32m    688\u001B[0m \u001B[38;5;28;01melif\u001B[39;00m ops_not_supported:\n\u001B[0;32m--> 689\u001B[0m     circuit \u001B[38;5;241m=\u001B[39m \u001B[43m_local_tape_expand\u001B[49m\u001B[43m(\u001B[49m\n\u001B[1;32m    690\u001B[0m \u001B[43m        \u001B[49m\u001B[43mcircuit\u001B[49m\u001B[43m,\u001B[49m\u001B[43m \u001B[49m\u001B[43mdepth\u001B[49m\u001B[38;5;241;43m=\u001B[39;49m\u001B[43mmax_expansion\u001B[49m\u001B[43m,\u001B[49m\u001B[43m \u001B[49m\u001B[43mstop_at\u001B[49m\u001B[38;5;241;43m=\u001B[39;49m\u001B[38;5;28;43mself\u001B[39;49m\u001B[38;5;241;43m.\u001B[39;49m\u001B[43mstopping_condition\u001B[49m\n\u001B[1;32m    691\u001B[0m \u001B[43m    \u001B[49m\u001B[43m)\u001B[49m\n\u001B[1;32m    692\u001B[0m     circuit\u001B[38;5;241m.\u001B[39m_update()\n\u001B[1;32m    694\u001B[0m \u001B[38;5;28;01mreturn\u001B[39;00m circuit\n",
      "File \u001B[0;32m~/anaconda3/envs/pennylane/lib/python3.10/site-packages/pennylane/_device.py:84\u001B[0m, in \u001B[0;36m_local_tape_expand\u001B[0;34m(tape, depth, stop_at)\u001B[0m\n\u001B[1;32m     82\u001B[0m \u001B[38;5;28;01mif\u001B[39;00m obj\u001B[38;5;241m.\u001B[39mhas_decomposition:\n\u001B[1;32m     83\u001B[0m     \u001B[38;5;28;01mwith\u001B[39;00m QueuingManager\u001B[38;5;241m.\u001B[39mstop_recording():\n\u001B[0;32m---> 84\u001B[0m         obj \u001B[38;5;241m=\u001B[39m QuantumScript(\u001B[43mobj\u001B[49m\u001B[38;5;241;43m.\u001B[39;49m\u001B[43mdecomposition\u001B[49m\u001B[43m(\u001B[49m\u001B[43m)\u001B[49m, _update\u001B[38;5;241m=\u001B[39m\u001B[38;5;28;01mFalse\u001B[39;00m)\n\u001B[1;32m     85\u001B[0m \u001B[38;5;28;01melse\u001B[39;00m:\n\u001B[1;32m     86\u001B[0m     new_queue\u001B[38;5;241m.\u001B[39mappend(obj)\n",
      "File \u001B[0;32m~/anaconda3/envs/pennylane/lib/python3.10/site-packages/pennylane/ops/op_math/adjoint.py:275\u001B[0m, in \u001B[0;36mAdjoint.decomposition\u001B[0;34m(self)\u001B[0m\n\u001B[1;32m    273\u001B[0m \u001B[38;5;28;01mdef\u001B[39;00m \u001B[38;5;21mdecomposition\u001B[39m(\u001B[38;5;28mself\u001B[39m):\n\u001B[1;32m    274\u001B[0m     \u001B[38;5;28;01mif\u001B[39;00m \u001B[38;5;28mself\u001B[39m\u001B[38;5;241m.\u001B[39mbase\u001B[38;5;241m.\u001B[39mhas_adjoint:\n\u001B[0;32m--> 275\u001B[0m         \u001B[38;5;28;01mreturn\u001B[39;00m [\u001B[38;5;28;43mself\u001B[39;49m\u001B[38;5;241;43m.\u001B[39;49m\u001B[43mbase\u001B[49m\u001B[38;5;241;43m.\u001B[39;49m\u001B[43madjoint\u001B[49m\u001B[43m(\u001B[49m\u001B[43m)\u001B[49m]\n\u001B[1;32m    276\u001B[0m     base_decomp \u001B[38;5;241m=\u001B[39m \u001B[38;5;28mself\u001B[39m\u001B[38;5;241m.\u001B[39mbase\u001B[38;5;241m.\u001B[39mdecomposition()\n\u001B[1;32m    277\u001B[0m     \u001B[38;5;28;01mreturn\u001B[39;00m [Adjoint(op) \u001B[38;5;28;01mfor\u001B[39;00m op \u001B[38;5;129;01min\u001B[39;00m \u001B[38;5;28mreversed\u001B[39m(base_decomp)]\n",
      "File \u001B[0;32m~/anaconda3/envs/pennylane/lib/python3.10/site-packages/pennylane/ops/qubit/parametric_ops_controlled.py:1248\u001B[0m, in \u001B[0;36mCRZ.adjoint\u001B[0;34m(self)\u001B[0m\n\u001B[1;32m   1247\u001B[0m \u001B[38;5;28;01mdef\u001B[39;00m \u001B[38;5;21madjoint\u001B[39m(\u001B[38;5;28mself\u001B[39m):\n\u001B[0;32m-> 1248\u001B[0m     \u001B[38;5;28;01mreturn\u001B[39;00m \u001B[43mCRZ\u001B[49m\u001B[43m(\u001B[49m\u001B[38;5;241;43m-\u001B[39;49m\u001B[38;5;28;43mself\u001B[39;49m\u001B[38;5;241;43m.\u001B[39;49m\u001B[43mdata\u001B[49m\u001B[43m[\u001B[49m\u001B[38;5;241;43m0\u001B[39;49m\u001B[43m]\u001B[49m\u001B[43m,\u001B[49m\u001B[43m \u001B[49m\u001B[43mwires\u001B[49m\u001B[38;5;241;43m=\u001B[39;49m\u001B[38;5;28;43mself\u001B[39;49m\u001B[38;5;241;43m.\u001B[39;49m\u001B[43mwires\u001B[49m\u001B[43m)\u001B[49m\n",
      "File \u001B[0;32m~/anaconda3/envs/pennylane/lib/python3.10/site-packages/pennylane/ops/qubit/parametric_ops_controlled.py:1128\u001B[0m, in \u001B[0;36mCRZ.__init__\u001B[0;34m(self, phi, wires, id)\u001B[0m\n\u001B[1;32m   1125\u001B[0m \u001B[38;5;28;01mdef\u001B[39;00m \u001B[38;5;21mgenerator\u001B[39m(\u001B[38;5;28mself\u001B[39m):\n\u001B[1;32m   1126\u001B[0m     \u001B[38;5;28;01mreturn\u001B[39;00m \u001B[38;5;241m-\u001B[39m\u001B[38;5;241m0.5\u001B[39m \u001B[38;5;241m*\u001B[39m qml\u001B[38;5;241m.\u001B[39mProjector(np\u001B[38;5;241m.\u001B[39marray([\u001B[38;5;241m1\u001B[39m]), wires\u001B[38;5;241m=\u001B[39m\u001B[38;5;28mself\u001B[39m\u001B[38;5;241m.\u001B[39mwires[\u001B[38;5;241m0\u001B[39m]) \u001B[38;5;241m@\u001B[39m PauliZ(\u001B[38;5;28mself\u001B[39m\u001B[38;5;241m.\u001B[39mwires[\u001B[38;5;241m1\u001B[39m])\n\u001B[0;32m-> 1128\u001B[0m \u001B[38;5;28;01mdef\u001B[39;00m \u001B[38;5;21m__init__\u001B[39m(\u001B[38;5;28mself\u001B[39m, phi, wires, \u001B[38;5;28mid\u001B[39m\u001B[38;5;241m=\u001B[39m\u001B[38;5;28;01mNone\u001B[39;00m):\n\u001B[1;32m   1129\u001B[0m     \u001B[38;5;28msuper\u001B[39m()\u001B[38;5;241m.\u001B[39m\u001B[38;5;21m__init__\u001B[39m(phi, wires\u001B[38;5;241m=\u001B[39mwires, \u001B[38;5;28mid\u001B[39m\u001B[38;5;241m=\u001B[39m\u001B[38;5;28mid\u001B[39m)\n\u001B[1;32m   1131\u001B[0m \u001B[38;5;28;01mdef\u001B[39;00m \u001B[38;5;21mlabel\u001B[39m(\u001B[38;5;28mself\u001B[39m, decimals\u001B[38;5;241m=\u001B[39m\u001B[38;5;28;01mNone\u001B[39;00m, base_label\u001B[38;5;241m=\u001B[39m\u001B[38;5;28;01mNone\u001B[39;00m, cache\u001B[38;5;241m=\u001B[39m\u001B[38;5;28;01mNone\u001B[39;00m):\n",
      "\u001B[0;31mKeyboardInterrupt\u001B[0m: "
     ]
    }
   ],
   "source": [
    "trained_params = par_l[1]\n",
    "X_train, y_train, X_test, y_test = tuple(r0)\n",
    "num_wires = 5\n",
    "dev = qml.device(\"lightning.qubit\", wires=num_wires)\n",
    "wires = list(range(num_wires))\n",
    "@qml.qnode(dev)\n",
    "# @qml.qnode(dev, diff_method=\"backprop\")\n",
    "# @qml.qnode(dev, diff_method=\"backprop\", interface=\"autograd\")\n",
    "def kernel(x1, x2, params):\n",
    "    ansatz(x1, params, wires)\n",
    "    qml.adjoint(ansatz)(x2, params, wires)\n",
    "    return qml.expval(qml.Projector([0]*num_wires, wires=wires))\n",
    "\n",
    "## fit the SVM on the train set\n",
    "mapped_kernel = lambda X1, X2: kernel(X1, X2, trained_params)\n",
    "mapped_kernel_matrix = lambda X1, X2: qml.kernels.kernel_matrix(X1, X2, mapped_kernel)\n",
    "svm_trained_kernel = SVC(kernel=mapped_kernel_matrix).fit(X_train, y_train)\n",
    "## evaluate the accuracy on the test set\n",
    "trained_train_predict = svm_trained_kernel.predict(X_train)\n",
    "trained_test_predict = svm_trained_kernel.predict(X_test)\n",
    "trained_train_accuracy = prediction_accuracy(trained_train_predict, y_train)\n",
    "trained_test_accuracy = prediction_accuracy(trained_test_predict, y_test)\n",
    "print(\"with kernel training accuracy on test\", trained_test_accuracy)\n",
    "\n",
    "precision = 20 # higher is more precise and more compute time\n",
    "xx, yy = np.meshgrid(np.linspace(0,precision,precision+1)/precision, np.linspace(0,precision,precision+1)/precision)\n",
    "X_grid = [np.array([x, y]) for x, y in zip(xx.flatten(), yy.flatten())]\n",
    "start = time.time()\n",
    "prediction_r = svm_trained_kernel.decision_function(X_grid)\n",
    "end = time.time()\n",
    "print (str(end-start))\n",
    "z = np.reshape(prediction_r, xx.shape)\n",
    "\n",
    "X_train, y_train, X_test, y_test = tuple(r0)\n",
    "\n",
    "cm = plt.cm.RdBu\n",
    "cnt = plt.contourf(xx,yy,z, levels=np.arange(-1, 1+1/3, 1/3), cmap=cm, alpha=0.7, extend=\"both\")\n",
    "plt.contour(xx, yy, z, levels=[0.0], colors=(\"black\",), linestyles=(\"--\",), linewidths=(0.8,))\n",
    "plt.colorbar(cnt, ticks=[-1, 0, 1])\n",
    "X_train_pos = X_train[np.where(y_train == 1)[0],:]\n",
    "X_train_neg = X_train[np.where(y_train == -1)[0],:]\n",
    "X_test_pos = X_test[np.where(y_test == 1)[0],:]\n",
    "X_test_neg = X_test[np.where(y_test == -1)[0],:]\n",
    "plt.scatter(X_train_pos[:, 0], X_train_pos[:, 1], color=\"b\", marker=\".\", label=\"train, 1\")\n",
    "plt.scatter(X_train_neg[:, 0], X_train_neg[:, 1], color=\"r\", marker=\".\", label=\"train, -1\")\n",
    "plt.scatter(X_test_pos[:, 0], X_test_pos[:, 1], color=\"b\", marker=\"x\", label=\"test, 1\")\n",
    "plt.scatter(X_test_neg[:, 0], X_test_neg[:, 1], color=\"r\", marker=\"x\", label=\"test, -1\")\n",
    "plt.legend(ncol=4,bbox_to_anchor=(1.1,-0.1))"
   ],
   "metadata": {
    "collapsed": false,
    "pycharm": {
     "name": "#%%\n"
    }
   }
  },
  {
   "cell_type": "code",
   "execution_count": null,
   "outputs": [],
   "source": [],
   "metadata": {
    "collapsed": false,
    "pycharm": {
     "name": "#%%\n"
    }
   }
  }
 ],
 "metadata": {
  "kernelspec": {
   "name": "pennylane",
   "language": "python",
   "display_name": "pennylane"
  },
  "language_info": {
   "codemirror_mode": {
    "name": "ipython",
    "version": 2
   },
   "file_extension": ".py",
   "mimetype": "text/x-python",
   "name": "python",
   "nbconvert_exporter": "python",
   "pygments_lexer": "ipython2",
   "version": "2.7.6"
  }
 },
 "nbformat": 4,
 "nbformat_minor": 0
}